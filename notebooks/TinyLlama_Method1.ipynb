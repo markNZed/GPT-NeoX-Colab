{
  "nbformat": 4,
  "nbformat_minor": 0,
  "metadata": {
    "colab": {
      "provenance": [],
      "gpuType": "T4",
      "authorship_tag": "ABX9TyOrXKAUpoltB4Wg7q1c4sDn",
      "include_colab_link": true
    },
    "kernelspec": {
      "name": "python3",
      "display_name": "Python 3"
    },
    "language_info": {
      "name": "python"
    },
    "accelerator": "GPU"
  },
  "cells": [
    {
      "cell_type": "markdown",
      "metadata": {
        "id": "view-in-github",
        "colab_type": "text"
      },
      "source": [
        "<a href=\"https://colab.research.google.com/github/kennyOlakunle/TinyLlama_local_implementation/blob/main/TinyLlama_Method1.ipynb\" target=\"_parent\"><img src=\"https://colab.research.google.com/assets/colab-badge.svg\" alt=\"Open In Colab\"/></a>"
      ]
    },
    {
      "cell_type": "code",
      "source": [
        "# !CMAKE_ARGS=\" -DLLAMA_CUBLAS=on\" pip install llama-cpp-python -q\n",
        "!CMAKE_ARGS=\"-DLLAMA_BLAS=ON -DLLAMA_BLAS_VENDOR=OpenBLAS\" pip install llama-cpp-python"
      ],
      "metadata": {
        "colab": {
          "base_uri": "https://localhost:8080/"
        },
        "id": "09UyvBtJ_x8P",
        "outputId": "c0670e82-5bd4-4515-e6e8-1d1f1e16fe80"
      },
      "execution_count": 1,
      "outputs": [
        {
          "output_type": "stream",
          "name": "stdout",
          "text": [
            "Requirement already satisfied: llama-cpp-python in /usr/local/lib/python3.10/dist-packages (0.2.26)\n",
            "Requirement already satisfied: typing-extensions>=4.5.0 in /usr/local/lib/python3.10/dist-packages (from llama-cpp-python) (4.5.0)\n",
            "Requirement already satisfied: numpy>=1.20.0 in /usr/local/lib/python3.10/dist-packages (from llama-cpp-python) (1.23.5)\n",
            "Requirement already satisfied: diskcache>=5.6.1 in /usr/local/lib/python3.10/dist-packages (from llama-cpp-python) (5.6.3)\n"
          ]
        }
      ]
    },
    {
      "cell_type": "code",
      "source": [
        "!pip3 install huggingface-hub\n"
      ],
      "metadata": {
        "colab": {
          "base_uri": "https://localhost:8080/"
        },
        "id": "21JoJrnfDVOo",
        "outputId": "7d9d296c-2fff-4988-dc11-e8b5255a336e"
      },
      "execution_count": 2,
      "outputs": [
        {
          "output_type": "stream",
          "name": "stdout",
          "text": [
            "Requirement already satisfied: huggingface-hub in /usr/local/lib/python3.10/dist-packages (0.19.4)\n",
            "Requirement already satisfied: filelock in /usr/local/lib/python3.10/dist-packages (from huggingface-hub) (3.13.1)\n",
            "Requirement already satisfied: fsspec>=2023.5.0 in /usr/local/lib/python3.10/dist-packages (from huggingface-hub) (2023.6.0)\n",
            "Requirement already satisfied: requests in /usr/local/lib/python3.10/dist-packages (from huggingface-hub) (2.31.0)\n",
            "Requirement already satisfied: tqdm>=4.42.1 in /usr/local/lib/python3.10/dist-packages (from huggingface-hub) (4.66.1)\n",
            "Requirement already satisfied: pyyaml>=5.1 in /usr/local/lib/python3.10/dist-packages (from huggingface-hub) (6.0.1)\n",
            "Requirement already satisfied: typing-extensions>=3.7.4.3 in /usr/local/lib/python3.10/dist-packages (from huggingface-hub) (4.5.0)\n",
            "Requirement already satisfied: packaging>=20.9 in /usr/local/lib/python3.10/dist-packages (from huggingface-hub) (23.2)\n",
            "Requirement already satisfied: charset-normalizer<4,>=2 in /usr/local/lib/python3.10/dist-packages (from requests->huggingface-hub) (3.3.2)\n",
            "Requirement already satisfied: idna<4,>=2.5 in /usr/local/lib/python3.10/dist-packages (from requests->huggingface-hub) (3.6)\n",
            "Requirement already satisfied: urllib3<3,>=1.21.1 in /usr/local/lib/python3.10/dist-packages (from requests->huggingface-hub) (2.0.7)\n",
            "Requirement already satisfied: certifi>=2017.4.17 in /usr/local/lib/python3.10/dist-packages (from requests->huggingface-hub) (2023.11.17)\n"
          ]
        }
      ]
    },
    {
      "cell_type": "code",
      "source": [
        "!huggingface-cli download TheBloke/TinyLlama-1.1B-Chat-v1.0-GGUF \\\n",
        "tinyllama-1.1b-chat-v1.0.Q4_K_M.gguf \\\n",
        "--local-dir . \\\n",
        "--local-dir-use-symlinks False\n"
      ],
      "metadata": {
        "colab": {
          "base_uri": "https://localhost:8080/"
        },
        "id": "IKjXY3g1_yB2",
        "outputId": "5b210306-2309-4de1-8aa9-90f0cd94d072"
      },
      "execution_count": 3,
      "outputs": [
        {
          "output_type": "stream",
          "name": "stdout",
          "text": [
            "Consider using `hf_transfer` for faster downloads. This solution comes with some limitations. See https://huggingface.co/docs/huggingface_hub/hf_transfer for more details.\n",
            "downloading https://huggingface.co/TheBloke/TinyLlama-1.1B-Chat-v1.0-GGUF/resolve/main/tinyllama-1.1b-chat-v1.0.Q4_K_M.gguf to /root/.cache/huggingface/hub/tmpd7o6vxiu\n",
            "tinyllama-1.1b-chat-v1.0.Q4_K_M.gguf: 100% 669M/669M [00:09<00:00, 70.7MB/s]\n",
            "./tinyllama-1.1b-chat-v1.0.Q4_K_M.gguf\n"
          ]
        }
      ]
    },
    {
      "cell_type": "code",
      "source": [
        "from llama_cpp import Llama"
      ],
      "metadata": {
        "id": "k-BqIVcRBN9e"
      },
      "execution_count": 4,
      "outputs": []
    },
    {
      "cell_type": "code",
      "source": [
        "llm = Llama(model_path=\"./tinyllama-1.1b-chat-v1.0.Q4_K_M.gguf\",\n",
        "            n_ctx=2048,\n",
        "            n_threads=8,\n",
        "            n_gpu_layers=35)"
      ],
      "metadata": {
        "colab": {
          "base_uri": "https://localhost:8080/"
        },
        "id": "oNca4RgkE6hL",
        "outputId": "0aee9d33-7004-4357-d9bd-320915b5315a"
      },
      "execution_count": 5,
      "outputs": [
        {
          "output_type": "stream",
          "name": "stderr",
          "text": [
            "AVX = 1 | AVX2 = 1 | AVX512 = 0 | AVX512_VBMI = 0 | AVX512_VNNI = 0 | FMA = 1 | NEON = 0 | ARM_FMA = 0 | F16C = 1 | FP16_VA = 0 | WASM_SIMD = 0 | BLAS = 1 | SSE3 = 1 | SSSE3 = 1 | VSX = 0 | \n"
          ]
        }
      ]
    },
    {
      "cell_type": "code",
      "source": [
        "llm = Llama(model_path=\"./tinyllama-1.1b-chat-v1.0.Q4_K_M.gguf\", chat_format=\"llama-2\")"
      ],
      "metadata": {
        "colab": {
          "base_uri": "https://localhost:8080/"
        },
        "id": "SDgVRf2bVEXR",
        "outputId": "82725b58-3d40-4a77-b28f-b1ff962bd24e"
      },
      "execution_count": 7,
      "outputs": [
        {
          "output_type": "stream",
          "name": "stderr",
          "text": [
            "AVX = 1 | AVX2 = 1 | AVX512 = 0 | AVX512_VBMI = 0 | AVX512_VNNI = 0 | FMA = 1 | NEON = 0 | ARM_FMA = 0 | F16C = 1 | FP16_VA = 0 | WASM_SIMD = 0 | BLAS = 1 | SSE3 = 1 | SSSE3 = 1 | VSX = 0 | \n"
          ]
        }
      ]
    },
    {
      "cell_type": "code",
      "source": [
        "llm.create_chat_completion(\n",
        "      messages = [\n",
        "        {\n",
        "          \"role\": \"system\",\n",
        "          \"content\": \"You are story writing assistant\"\n",
        "\n",
        "        },\n",
        "        {\n",
        "          \"role\": \"user\",\n",
        "          \"content\": \"Write an extensive story about Life as a young Adult\"\n",
        "        }\n",
        "      ]\n",
        ")"
      ],
      "metadata": {
        "colab": {
          "base_uri": "https://localhost:8080/"
        },
        "id": "6FTPuwKQGiWq",
        "outputId": "4eb11a07-f91e-49b4-ad4f-8b7d387b7f22"
      },
      "execution_count": 9,
      "outputs": [
        {
          "output_type": "stream",
          "name": "stderr",
          "text": [
            "Llama.generate: prefix-match hit\n"
          ]
        },
        {
          "output_type": "execute_result",
          "data": {
            "text/plain": [
              "{'id': 'chatcmpl-46adc845-601d-4c36-9f0d-8435510e2908',\n",
              " 'object': 'chat.completion',\n",
              " 'created': 1704117885,\n",
              " 'model': './tinyllama-1.1b-chat-v1.0.Q4_K_M.gguf',\n",
              " 'choices': [{'index': 0,\n",
              "   'message': {'role': 'assistant',\n",
              "    'content': \"\\nI was born into a family of four, with my parents and two siblings. Growing up, I had always been the quiet one in the family. My parents were busy running their business, while my siblings were busy with their studies. I was the only one who didn't have any ambition to pursue higher education or start a career.\\nOne day, my parents decided to take me along on a trip to the city for some shopping and fun. They promised me that they would take care of everything else. But as we reached the city, I felt like something was missing. The bustling crowds, the noise, the hustle and bustle, all seemed so foreign to me.\\nI spent most of my time wandering around the streets, trying to find some solace in the chaos. One day, while walking through a busy market, I saw a group of people dancing to some music. I was fascinated by their dance moves and decided to join them. The music was so loud that it made me dizzy, but I couldn't resist the urge to dance too.\\nAs we continued dancing, I realized that this was something I had never experienced before. It was like a rush of emotions that I had never felt before. I started feeling alive again, and I knew that I wanted to explore more of life.\\nThat night, as we were walking back home, I saw a group of people dancing on the street. They looked so happy and carefree, and I felt like I was missing out on something important. I decided to join them too. We danced together for hours, and it was one of the most memorable experiences of my life.\\nAs we walked back home, I realized that this experience had changed me forever. It had made me realize that life is not just about work or studies, but also about experiencing new things and finding joy in the little moments. I started exploring more of life, trying new things, and meeting new people.\\nLooking back on my journey as a young adult, I realized that Life was not just about what we do for money, but also about the experiences we have. It was a journey of self-discovery, and I learned so much\"},\n",
              "   'finish_reason': 'length'}],\n",
              " 'usage': {'prompt_tokens': 36, 'completion_tokens': 476, 'total_tokens': 512}}"
            ]
          },
          "metadata": {},
          "execution_count": 9
        }
      ]
    }
  ]
}
