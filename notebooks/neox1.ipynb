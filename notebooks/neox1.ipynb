{
  "nbformat": 4,
  "nbformat_minor": 0,
  "metadata": {
    "colab": {
      "provenance": [],
      "authorship_tag": "ABX9TyOSDFTUISYmQXC9mhB3aFLZ",
      "include_colab_link": true
    },
    "kernelspec": {
      "name": "python3",
      "display_name": "Python 3"
    },
    "language_info": {
      "name": "python"
    }
  },
  "cells": [
    {
      "cell_type": "markdown",
      "metadata": {
        "id": "view-in-github",
        "colab_type": "text"
      },
      "source": [
        "<a href=\"https://colab.research.google.com/github/markNZed/GPT-NeoX-Colab/blob/main/notebooks/neox1.ipynb\" target=\"_parent\"><img src=\"https://colab.research.google.com/assets/colab-badge.svg\" alt=\"Open In Colab\"/></a>"
      ]
    },
    {
      "cell_type": "code",
      "source": [
        "import sys\n",
        "print(sys.version)"
      ],
      "metadata": {
        "id": "CybKIA_9hQua",
        "colab": {
          "base_uri": "https://localhost:8080/"
        },
        "outputId": "370d2d27-77aa-45bd-86e9-7006b6ff5e3a"
      },
      "execution_count": 5,
      "outputs": [
        {
          "output_type": "stream",
          "name": "stdout",
          "text": [
            "3.10.12 (main, Sep 11 2024, 15:47:36) [GCC 11.4.0]\n"
          ]
        }
      ]
    },
    {
      "cell_type": "code",
      "source": [
        "!apt-get update -y\n",
        "!apt-get install python3.8 python3.8-dev\n",
        "!update-alternatives --install /usr/bin/python3 python3 /usr/bin/python3.8 1\n",
        "!python --version\n",
        "!apt-get install python3.8-distutils\n",
        "!wget https://bootstrap.pypa.io/get-pip.py\n",
        "!python3.8 get-pip.py\n",
        "!python3.8 -m pip --version\n",
        "!update-alternatives --install /usr/bin/pip3 pip3 /usr/bin/python3.8 1"
      ],
      "metadata": {
        "id": "gbAdwGZshj_U",
        "colab": {
          "base_uri": "https://localhost:8080/"
        },
        "collapsed": true,
        "outputId": "c7a907b7-773b-41f4-a557-521defd34c66"
      },
      "execution_count": null,
      "outputs": [
        {
          "output_type": "stream",
          "name": "stdout",
          "text": [
            "\r0% [Working]\r            \rGet:1 https://cloud.r-project.org/bin/linux/ubuntu jammy-cran40/ InRelease [3,626 B]\n",
            "\r0% [Connecting to archive.ubuntu.com (185.125.190.81)] [Waiting for headers] [1 InRelease 3,626 B/3,\r0% [Connecting to archive.ubuntu.com (185.125.190.81)] [Waiting for headers] [Waiting for headers] [\r                                                                                                    \rGet:2 https://developer.download.nvidia.com/compute/cuda/repos/ubuntu2204/x86_64  InRelease [1,581 B]\n",
            "\r0% [Connecting to archive.ubuntu.com (185.125.190.81)] [Waiting for headers] [Waiting for headers] [\r                                                                                                    \rGet:3 http://security.ubuntu.com/ubuntu jammy-security InRelease [129 kB]\n",
            "Ign:4 https://r2u.stat.illinois.edu/ubuntu jammy InRelease\n",
            "Get:5 https://r2u.stat.illinois.edu/ubuntu jammy Release [5,713 B]\n",
            "Hit:6 http://archive.ubuntu.com/ubuntu jammy InRelease\n",
            "Get:7 https://r2u.stat.illinois.edu/ubuntu jammy Release.gpg [793 B]\n",
            "Get:8 http://archive.ubuntu.com/ubuntu jammy-updates InRelease [128 kB]\n",
            "Hit:9 https://ppa.launchpadcontent.net/deadsnakes/ppa/ubuntu jammy InRelease\n",
            "Hit:10 https://ppa.launchpadcontent.net/graphics-drivers/ppa/ubuntu jammy InRelease\n",
            "Get:11 https://developer.download.nvidia.com/compute/cuda/repos/ubuntu2204/x86_64  Packages [1,071 kB]\n",
            "Hit:12 https://ppa.launchpadcontent.net/ubuntugis/ppa/ubuntu jammy InRelease\n",
            "Get:13 http://archive.ubuntu.com/ubuntu jammy-backports InRelease [127 kB]\n",
            "Get:14 https://r2u.stat.illinois.edu/ubuntu jammy/main all Packages [8,425 kB]\n",
            "Get:15 https://r2u.stat.illinois.edu/ubuntu jammy/main amd64 Packages [2,601 kB]\n",
            "Get:16 http://archive.ubuntu.com/ubuntu jammy-updates/main amd64 Packages [2,654 kB]\n",
            "Get:17 http://archive.ubuntu.com/ubuntu jammy-updates/universe amd64 Packages [1,450 kB]\n",
            "Fetched 16.6 MB in 4s (4,569 kB/s)\n",
            "^C\n",
            "Reading package lists... Done\n",
            "^C\n",
            "update-alternatives: error: alternative path /usr/bin/python3.8 doesn't exist\n",
            "Python 3.10.12\n",
            "Reading package lists... Done\n",
            "Building dependency tree... Done\n",
            "Reading state information... Done\n",
            "The following additional packages will be installed:\n",
            "  python3.8-lib2to3\n",
            "The following NEW packages will be installed:\n",
            "  python3.8-distutils python3.8-lib2to3\n",
            "0 upgraded, 2 newly installed, 0 to remove and 50 not upgraded.\n",
            "Need to get 319 kB of archives.\n",
            "After this operation, 1,237 kB of additional disk space will be used.\n",
            "Get:1 https://ppa.launchpadcontent.net/deadsnakes/ppa/ubuntu jammy/main amd64 python3.8-lib2to3 all 3.8.20-1+jammy1 [126 kB]\n",
            "Get:2 https://ppa.launchpadcontent.net/deadsnakes/ppa/ubuntu jammy/main amd64 python3.8-distutils all 3.8.20-1+jammy1 [193 kB]\n",
            "Fetched 319 kB in 1s (321 kB/s)\n",
            "debconf: apt-extracttemplates failed: No such file or directory\n",
            "E: Sub-process /usr/sbin/dpkg-preconfigure --apt || true received signal 2.\n",
            "E: Failure running script /usr/sbin/dpkg-preconfigure --apt || true\n",
            "--2024-10-27 16:10:27--  https://bootstrap.pypa.io/get-pip.py\n",
            "Resolving bootstrap.pypa.io (bootstrap.pypa.io)... 151.101.0.175, 151.101.64.175, 151.101.128.175, ...\n",
            "Connecting to bootstrap.pypa.io (bootstrap.pypa.io)|151.101.0.175|:443... connected.\n",
            "HTTP request sent, awaiting response... 200 OK\n",
            "Length: 2275701 (2.2M) [text/x-python]\n",
            "Saving to: ‘get-pip.py’\n",
            "\n",
            "get-pip.py          100%[===================>]   2.17M  --.-KB/s    in 0.08s   \n",
            "\n",
            "2024-10-27 16:10:28 (26.8 MB/s) - ‘get-pip.py’ saved [2275701/2275701]\n",
            "\n",
            "/bin/bash: line 1: python3.8: command not found\n",
            "/bin/bash: line 1: python3.8: command not found\n",
            "update-alternatives: error: alternative path /usr/bin/python3.8 doesn't exist\n"
          ]
        }
      ]
    },
    {
      "cell_type": "code",
      "execution_count": 6,
      "metadata": {
        "id": "vLzwvyLUci6U",
        "colab": {
          "base_uri": "https://localhost:8080/"
        },
        "collapsed": true,
        "outputId": "78ea6b1a-78b8-49a8-c6c8-05905ee443d8"
      },
      "outputs": [
        {
          "output_type": "stream",
          "name": "stdout",
          "text": [
            "fatal: destination path 'gpt-neox' already exists and is not an empty directory.\n",
            "/content/gpt-neox\n"
          ]
        }
      ],
      "source": [
        "!git clone https://github.com/EleutherAI/gpt-neox.git\n",
        "%cd /content/gpt-neox"
      ]
    },
    {
      "cell_type": "code",
      "source": [
        "!ls"
      ],
      "metadata": {
        "id": "54FX1tO6c5-A",
        "colab": {
          "base_uri": "https://localhost:8080/"
        },
        "outputId": "649b3e97-8885-4e25-a0ef-5845d9a7017c"
      },
      "execution_count": 7,
      "outputs": [
        {
          "output_type": "stream",
          "name": "stdout",
          "text": [
            "CITATION.cff\t\t      docker-compose.yml  images\t prepare_data.py  tools\n",
            "configs\t\t\t      Dockerfile\t  LICENSE\t README.md\t  train.py\n",
            "CONTRIBUTING.md\t\t      eval.py\t\t  MANIFEST.in\t README-MUP.md\n",
            "deepy.py\t\t      eval_tasks\t  megatron\t requirements\n",
            "docker-compose-dockerhub.yml  generate.py\t  post-training  tests\n"
          ]
        }
      ]
    },
    {
      "cell_type": "code",
      "source": [
        "!pip install tokenizers==0.18.0\n",
        "!pip install transformers==4.38.0 tokenizers<0.19\n",
        "!pip install datasets==3.0.2 fsspec==2024.9.0 tqdm==4.66.3 requests==2.32.2\n",
        "!pip install evaluate==0.4.3 tqdm==4.66.3\n",
        "!pip install tiktoken==0.7.0 requests>=2.26.0"
      ],
      "metadata": {
        "colab": {
          "base_uri": "https://localhost:8080/"
        },
        "id": "rP2y1zIn5EVp",
        "outputId": "0f89459a-f7e4-449b-e479-1d5b931b26c9"
      },
      "execution_count": 4,
      "outputs": [
        {
          "output_type": "stream",
          "name": "stdout",
          "text": [
            "\u001b[31mERROR: Could not find a version that satisfies the requirement tokenizers==0.18.0 (from versions: 0.0.2, 0.0.3, 0.0.4, 0.0.5, 0.0.6, 0.0.7, 0.0.8, 0.0.9, 0.0.10, 0.0.11, 0.0.12, 0.0.13, 0.1.0, 0.1.1, 0.2.0, 0.2.1, 0.3.0, 0.4.0, 0.4.1, 0.4.2, 0.5.0, 0.5.1, 0.5.2, 0.6.0, 0.7.0rc1, 0.7.0rc2, 0.7.0rc3, 0.7.0rc4, 0.7.0rc5, 0.7.0rc6, 0.7.0rc7, 0.7.0, 0.8.0.dev0, 0.8.0.dev1, 0.8.0.dev2, 0.8.0rc1, 0.8.0rc2, 0.8.0rc3, 0.8.0rc4, 0.8.0, 0.8.1rc1, 0.8.1rc2, 0.8.1, 0.9.0.dev0, 0.9.0.dev1, 0.9.0.dev2, 0.9.0.dev3, 0.9.0.dev4, 0.9.0rc1, 0.9.0rc2, 0.9.0, 0.9.1, 0.9.2, 0.9.3, 0.9.4, 0.10.0rc1, 0.10.0, 0.10.1rc1, 0.10.1, 0.10.2, 0.10.3, 0.11.0, 0.11.1, 0.11.2, 0.11.3, 0.11.4, 0.11.5, 0.11.6, 0.12.0, 0.12.1, 0.13.0, 0.13.1, 0.13.2, 0.13.3rc1, 0.13.3, 0.13.4rc1, 0.13.4rc2, 0.13.4rc3, 0.14.0rc1, 0.14.0, 0.14.1, 0.15.0, 0.15.1, 0.15.2rc1, 0.15.2, 0.19.0, 0.19.1, 0.20.0, 0.20.1rc1, 0.20.1)\u001b[0m\n",
            "\u001b[31mERROR: No matching distribution found for tokenizers==0.18.0\u001b[0m\n",
            "/bin/bash: line 1: 0.19: No such file or directory\n",
            "Requirement already satisfied: datasets==3.0.2 in /usr/local/lib/python3.8/site-packages (3.0.2)\n",
            "Requirement already satisfied: fsspec==2024.9.0 in /usr/local/lib/python3.8/site-packages (2024.9.0)\n",
            "Requirement already satisfied: tqdm==4.66.3 in /usr/local/lib/python3.8/site-packages (4.66.3)\n",
            "Requirement already satisfied: requests==2.32.2 in /usr/local/lib/python3.8/site-packages (2.32.2)\n",
            "Requirement already satisfied: aiohttp in /usr/local/lib/python3.8/site-packages (from datasets==3.0.2) (3.8.1)\n",
            "Requirement already satisfied: pandas in /usr/local/lib/python3.8/site-packages (from datasets==3.0.2) (1.3.5)\n",
            "Requirement already satisfied: dill<0.3.9,>=0.3.0 in /usr/local/lib/python3.8/site-packages (from datasets==3.0.2) (0.3.8)\n",
            "Requirement already satisfied: multiprocess<0.70.17 in /usr/local/lib/python3.8/site-packages (from datasets==3.0.2) (0.70.16)\n",
            "Requirement already satisfied: huggingface-hub>=0.23.0 in /usr/local/lib/python3.8/site-packages (from datasets==3.0.2) (0.26.1)\n",
            "Requirement already satisfied: packaging in /usr/local/lib/python3.8/site-packages (from datasets==3.0.2) (24.1)\n",
            "Requirement already satisfied: xxhash in /usr/local/lib/python3.8/site-packages (from datasets==3.0.2) (3.5.0)\n",
            "Requirement already satisfied: pyarrow>=15.0.0 in /usr/local/lib/python3.8/site-packages (from datasets==3.0.2) (17.0.0)\n",
            "Requirement already satisfied: pyyaml>=5.1 in /usr/local/lib/python3.8/site-packages (from datasets==3.0.2) (6.0.2)\n",
            "Requirement already satisfied: numpy>=1.17 in /usr/local/lib/python3.8/site-packages (from datasets==3.0.2) (1.22.3)\n",
            "Requirement already satisfied: filelock in /usr/local/lib/python3.8/site-packages (from datasets==3.0.2) (3.16.1)\n",
            "Requirement already satisfied: certifi>=2017.4.17 in /usr/local/lib/python3.8/site-packages (from requests==2.32.2) (2024.8.30)\n",
            "Requirement already satisfied: charset-normalizer<4,>=2 in /usr/local/lib/python3.8/site-packages (from requests==2.32.2) (2.0.4)\n",
            "Requirement already satisfied: urllib3<3,>=1.21.1 in /usr/local/lib/python3.8/site-packages (from requests==2.32.2) (1.25.8)\n",
            "Requirement already satisfied: idna<4,>=2.5 in /usr/local/lib/python3.8/site-packages (from requests==2.32.2) (2.8)\n",
            "Requirement already satisfied: yarl<2.0,>=1.0 in /usr/local/lib/python3.8/site-packages (from aiohttp->datasets==3.0.2) (1.7.2)\n",
            "Requirement already satisfied: attrs>=17.3.0 in /usr/local/lib/python3.8/site-packages (from aiohttp->datasets==3.0.2) (24.2.0)\n",
            "Requirement already satisfied: async-timeout<5.0,>=4.0.0a3 in /usr/local/lib/python3.8/site-packages (from aiohttp->datasets==3.0.2) (4.0.3)\n",
            "Requirement already satisfied: aiosignal>=1.1.2 in /usr/local/lib/python3.8/site-packages (from aiohttp->datasets==3.0.2) (1.3.1)\n",
            "Requirement already satisfied: frozenlist>=1.1.1 in /usr/local/lib/python3.8/site-packages (from aiohttp->datasets==3.0.2) (1.4.0)\n",
            "Requirement already satisfied: multidict<7.0,>=4.5 in /usr/local/lib/python3.8/site-packages (from aiohttp->datasets==3.0.2) (6.0.4)\n",
            "Requirement already satisfied: python-dateutil>=2.7.3 in /usr/local/lib/python3.8/site-packages (from pandas->datasets==3.0.2) (2.9.0.post0)\n",
            "Requirement already satisfied: pytz>=2017.3 in /usr/local/lib/python3.8/site-packages (from pandas->datasets==3.0.2) (2024.1)\n",
            "Requirement already satisfied: typing-extensions>=3.7.4.3 in /usr/local/lib/python3.8/site-packages (from huggingface-hub>=0.23.0->datasets==3.0.2) (4.11.0)\n",
            "Requirement already satisfied: six>=1.5 in /usr/local/lib/python3.8/site-packages (from python-dateutil>=2.7.3->pandas->datasets==3.0.2) (1.14.0)\n",
            "Requirement already satisfied: evaluate==0.4.3 in /usr/local/lib/python3.8/site-packages (0.4.3)\n",
            "Requirement already satisfied: tqdm==4.66.3 in /usr/local/lib/python3.8/site-packages (4.66.3)\n",
            "Requirement already satisfied: packaging in /usr/local/lib/python3.8/site-packages (from evaluate==0.4.3) (24.1)\n",
            "Requirement already satisfied: dill in /usr/local/lib/python3.8/site-packages (from evaluate==0.4.3) (0.3.8)\n",
            "Requirement already satisfied: fsspec[http]>=2021.05.0 in /usr/local/lib/python3.8/site-packages (from evaluate==0.4.3) (2024.9.0)\n",
            "Requirement already satisfied: pandas in /usr/local/lib/python3.8/site-packages (from evaluate==0.4.3) (1.3.5)\n",
            "Requirement already satisfied: xxhash in /usr/local/lib/python3.8/site-packages (from evaluate==0.4.3) (3.5.0)\n",
            "Requirement already satisfied: datasets>=2.0.0 in /usr/local/lib/python3.8/site-packages (from evaluate==0.4.3) (3.0.2)\n",
            "Requirement already satisfied: multiprocess in /usr/local/lib/python3.8/site-packages (from evaluate==0.4.3) (0.70.16)\n",
            "Requirement already satisfied: numpy>=1.17 in /usr/local/lib/python3.8/site-packages (from evaluate==0.4.3) (1.22.3)\n",
            "Requirement already satisfied: huggingface-hub>=0.7.0 in /usr/local/lib/python3.8/site-packages (from evaluate==0.4.3) (0.26.1)\n",
            "Requirement already satisfied: requests>=2.19.0 in /usr/local/lib/python3.8/site-packages (from evaluate==0.4.3) (2.32.2)\n",
            "Requirement already satisfied: aiohttp!=4.0.0a0,!=4.0.0a1; extra == \"http\" in /usr/local/lib/python3.8/site-packages (from fsspec[http]>=2021.05.0->evaluate==0.4.3) (3.8.1)\n",
            "Requirement already satisfied: python-dateutil>=2.7.3 in /usr/local/lib/python3.8/site-packages (from pandas->evaluate==0.4.3) (2.9.0.post0)\n",
            "Requirement already satisfied: pytz>=2017.3 in /usr/local/lib/python3.8/site-packages (from pandas->evaluate==0.4.3) (2024.1)\n",
            "Requirement already satisfied: pyarrow>=15.0.0 in /usr/local/lib/python3.8/site-packages (from datasets>=2.0.0->evaluate==0.4.3) (17.0.0)\n",
            "Requirement already satisfied: pyyaml>=5.1 in /usr/local/lib/python3.8/site-packages (from datasets>=2.0.0->evaluate==0.4.3) (6.0.2)\n",
            "Requirement already satisfied: filelock in /usr/local/lib/python3.8/site-packages (from datasets>=2.0.0->evaluate==0.4.3) (3.16.1)\n",
            "Requirement already satisfied: typing-extensions>=3.7.4.3 in /usr/local/lib/python3.8/site-packages (from huggingface-hub>=0.7.0->evaluate==0.4.3) (4.11.0)\n",
            "Requirement already satisfied: charset-normalizer<4,>=2 in /usr/local/lib/python3.8/site-packages (from requests>=2.19.0->evaluate==0.4.3) (2.0.4)\n",
            "Requirement already satisfied: urllib3<3,>=1.21.1 in /usr/local/lib/python3.8/site-packages (from requests>=2.19.0->evaluate==0.4.3) (1.25.8)\n",
            "Requirement already satisfied: certifi>=2017.4.17 in /usr/local/lib/python3.8/site-packages (from requests>=2.19.0->evaluate==0.4.3) (2024.8.30)\n",
            "Requirement already satisfied: idna<4,>=2.5 in /usr/local/lib/python3.8/site-packages (from requests>=2.19.0->evaluate==0.4.3) (2.8)\n",
            "Requirement already satisfied: frozenlist>=1.1.1 in /usr/local/lib/python3.8/site-packages (from aiohttp!=4.0.0a0,!=4.0.0a1; extra == \"http\"->fsspec[http]>=2021.05.0->evaluate==0.4.3) (1.4.0)\n",
            "Requirement already satisfied: multidict<7.0,>=4.5 in /usr/local/lib/python3.8/site-packages (from aiohttp!=4.0.0a0,!=4.0.0a1; extra == \"http\"->fsspec[http]>=2021.05.0->evaluate==0.4.3) (6.0.4)\n",
            "Requirement already satisfied: async-timeout<5.0,>=4.0.0a3 in /usr/local/lib/python3.8/site-packages (from aiohttp!=4.0.0a0,!=4.0.0a1; extra == \"http\"->fsspec[http]>=2021.05.0->evaluate==0.4.3) (4.0.3)\n",
            "Requirement already satisfied: aiosignal>=1.1.2 in /usr/local/lib/python3.8/site-packages (from aiohttp!=4.0.0a0,!=4.0.0a1; extra == \"http\"->fsspec[http]>=2021.05.0->evaluate==0.4.3) (1.3.1)\n",
            "Requirement already satisfied: attrs>=17.3.0 in /usr/local/lib/python3.8/site-packages (from aiohttp!=4.0.0a0,!=4.0.0a1; extra == \"http\"->fsspec[http]>=2021.05.0->evaluate==0.4.3) (24.2.0)\n",
            "Requirement already satisfied: yarl<2.0,>=1.0 in /usr/local/lib/python3.8/site-packages (from aiohttp!=4.0.0a0,!=4.0.0a1; extra == \"http\"->fsspec[http]>=2021.05.0->evaluate==0.4.3) (1.7.2)\n",
            "Requirement already satisfied: six>=1.5 in /usr/local/lib/python3.8/site-packages (from python-dateutil>=2.7.3->pandas->evaluate==0.4.3) (1.14.0)\n"
          ]
        }
      ]
    },
    {
      "cell_type": "code",
      "source": [
        "!pip install -r requirements/requirements.txt"
      ],
      "metadata": {
        "id": "CPI2Cd1Nc-Fr",
        "colab": {
          "base_uri": "https://localhost:8080/"
        },
        "outputId": "f6085e7f-cd25-4fac-a428-7e46dca101e4"
      },
      "execution_count": 7,
      "outputs": [
        {
          "output_type": "stream",
          "name": "stdout",
          "text": [
            "Requirement already satisfied: deepspeed@ git+https://github.com/EleutherAI/DeeperSpeed.git@02e2ebf7dee6aaab3d89094ed470a4609763c742#egg=deepspeed from git+https://github.com/EleutherAI/DeeperSpeed.git@02e2ebf7dee6aaab3d89094ed470a4609763c742#egg=deepspeed in /usr/local/lib/python3.8/site-packages (from -r requirements/requirements.txt (line 1)) (0.12.4+02e2ebf7)\n",
            "Requirement already satisfied: ftfy>=6.0.1 in /usr/local/lib/python3.8/site-packages (from -r requirements/requirements.txt (line 2)) (6.2.3)\n",
            "Requirement already satisfied: huggingface_hub>=0.11.0 in /usr/local/lib/python3.8/site-packages (from -r requirements/requirements.txt (line 3)) (0.26.1)\n",
            "Requirement already satisfied: jinja2==3.1.4 in /usr/local/lib/python3.8/site-packages (from -r requirements/requirements.txt (line 4)) (3.1.4)\n",
            "Requirement already satisfied: lm_dataformat@ git+https://github.com/EleutherAI/lm_dataformat.git@4eec05349977071bf67fc072290b95e31c8dd836 from git+https://github.com/EleutherAI/lm_dataformat.git@4eec05349977071bf67fc072290b95e31c8dd836 in /usr/local/lib/python3.8/site-packages (from -r requirements/requirements.txt (line 5)) (0.0.20)\n",
            "Requirement already satisfied: lm_eval<=0.4.1,>=0.4.0 in /usr/local/lib/python3.8/site-packages (from -r requirements/requirements.txt (line 6)) (0.4.1)\n",
            "Requirement already satisfied: mpi4py>=3.0.3 in /usr/local/lib/python3.8/site-packages (from -r requirements/requirements.txt (line 7)) (4.0.1)\n",
            "Requirement already satisfied: numpy<2.0 in /usr/local/lib/python3.8/site-packages (from -r requirements/requirements.txt (line 8)) (1.22.3)\n",
            "Requirement already satisfied: pybind11>=2.6.2 in /usr/local/lib/python3.8/site-packages (from -r requirements/requirements.txt (line 9)) (2.13.6)\n",
            "Requirement already satisfied: regex in /usr/local/lib/python3.8/site-packages (from -r requirements/requirements.txt (line 10)) (2024.9.11)\n",
            "Requirement already satisfied: sentencepiece in /usr/local/lib/python3.8/site-packages (from -r requirements/requirements.txt (line 11)) (0.2.0)\n",
            "Requirement already satisfied: six in /usr/local/lib/python3.8/site-packages (from -r requirements/requirements.txt (line 12)) (1.14.0)\n",
            "Requirement already satisfied: tiktoken>=0.1.2 in /usr/local/lib/python3.8/site-packages (from -r requirements/requirements.txt (line 13)) (0.7.0)\n",
            "Requirement already satisfied: tokenizers>=0.12.1 in /usr/local/lib/python3.8/site-packages (from -r requirements/requirements.txt (line 14)) (0.20.1)\n",
            "Requirement already satisfied: transformers==4.38.0 in /usr/local/lib/python3.8/site-packages (from -r requirements/requirements.txt (line 15)) (4.38.0)\n",
            "Requirement already satisfied: pydantic in /usr/local/lib/python3.8/site-packages (from deepspeed@ git+https://github.com/EleutherAI/DeeperSpeed.git@02e2ebf7dee6aaab3d89094ed470a4609763c742#egg=deepspeed->-r requirements/requirements.txt (line 1)) (2.9.2)\n",
            "Requirement already satisfied: ninja in /usr/local/lib/python3.8/site-packages (from deepspeed@ git+https://github.com/EleutherAI/DeeperSpeed.git@02e2ebf7dee6aaab3d89094ed470a4609763c742#egg=deepspeed->-r requirements/requirements.txt (line 1)) (1.11.1.1)\n",
            "Requirement already satisfied: hjson in /usr/local/lib/python3.8/site-packages (from deepspeed@ git+https://github.com/EleutherAI/DeeperSpeed.git@02e2ebf7dee6aaab3d89094ed470a4609763c742#egg=deepspeed->-r requirements/requirements.txt (line 1)) (3.1.0)\n",
            "Requirement already satisfied: torch in /usr/local/lib/python3.8/site-packages (from deepspeed@ git+https://github.com/EleutherAI/DeeperSpeed.git@02e2ebf7dee6aaab3d89094ed470a4609763c742#egg=deepspeed->-r requirements/requirements.txt (line 1)) (2.4.1)\n",
            "Requirement already satisfied: pynvml in /usr/local/lib/python3.8/site-packages (from deepspeed@ git+https://github.com/EleutherAI/DeeperSpeed.git@02e2ebf7dee6aaab3d89094ed470a4609763c742#egg=deepspeed->-r requirements/requirements.txt (line 1)) (11.5.3)\n",
            "Requirement already satisfied: packaging>=20.0 in /usr/local/lib/python3.8/site-packages (from deepspeed@ git+https://github.com/EleutherAI/DeeperSpeed.git@02e2ebf7dee6aaab3d89094ed470a4609763c742#egg=deepspeed->-r requirements/requirements.txt (line 1)) (24.1)\n",
            "Requirement already satisfied: py-cpuinfo in /usr/local/lib/python3.8/site-packages (from deepspeed@ git+https://github.com/EleutherAI/DeeperSpeed.git@02e2ebf7dee6aaab3d89094ed470a4609763c742#egg=deepspeed->-r requirements/requirements.txt (line 1)) (9.0.0)\n",
            "Requirement already satisfied: tqdm in /usr/local/lib/python3.8/site-packages (from deepspeed@ git+https://github.com/EleutherAI/DeeperSpeed.git@02e2ebf7dee6aaab3d89094ed470a4609763c742#egg=deepspeed->-r requirements/requirements.txt (line 1)) (4.66.3)\n",
            "Requirement already satisfied: psutil in /usr/local/lib/python3.8/site-packages (from deepspeed@ git+https://github.com/EleutherAI/DeeperSpeed.git@02e2ebf7dee6aaab3d89094ed470a4609763c742#egg=deepspeed->-r requirements/requirements.txt (line 1)) (5.8.0)\n",
            "Requirement already satisfied: wcwidth<0.3.0,>=0.2.12 in /usr/local/lib/python3.8/site-packages (from ftfy>=6.0.1->-r requirements/requirements.txt (line 2)) (0.2.13)\n",
            "Requirement already satisfied: requests in /usr/local/lib/python3.8/site-packages (from huggingface_hub>=0.11.0->-r requirements/requirements.txt (line 3)) (2.32.2)\n",
            "Requirement already satisfied: fsspec>=2023.5.0 in /usr/local/lib/python3.8/site-packages (from huggingface_hub>=0.11.0->-r requirements/requirements.txt (line 3)) (2024.9.0)\n",
            "Requirement already satisfied: filelock in /usr/local/lib/python3.8/site-packages (from huggingface_hub>=0.11.0->-r requirements/requirements.txt (line 3)) (3.16.1)\n",
            "Requirement already satisfied: typing-extensions>=3.7.4.3 in /usr/local/lib/python3.8/site-packages (from huggingface_hub>=0.11.0->-r requirements/requirements.txt (line 3)) (4.11.0)\n",
            "Requirement already satisfied: pyyaml>=5.1 in /usr/local/lib/python3.8/site-packages (from huggingface_hub>=0.11.0->-r requirements/requirements.txt (line 3)) (6.0.2)\n",
            "Requirement already satisfied: MarkupSafe>=2.0 in /usr/local/lib/python3.8/site-packages (from jinja2==3.1.4->-r requirements/requirements.txt (line 4)) (2.1.1)\n",
            "Requirement already satisfied: ujson in /usr/local/lib/python3.8/site-packages (from lm_dataformat@ git+https://github.com/EleutherAI/lm_dataformat.git@4eec05349977071bf67fc072290b95e31c8dd836->-r requirements/requirements.txt (line 5)) (5.10.0)\n",
            "Requirement already satisfied: zstandard in /usr/local/lib/python3.8/site-packages (from lm_dataformat@ git+https://github.com/EleutherAI/lm_dataformat.git@4eec05349977071bf67fc072290b95e31c8dd836->-r requirements/requirements.txt (line 5)) (0.23.0)\n",
            "Requirement already satisfied: jsonlines in /usr/local/lib/python3.8/site-packages (from lm_dataformat@ git+https://github.com/EleutherAI/lm_dataformat.git@4eec05349977071bf67fc072290b95e31c8dd836->-r requirements/requirements.txt (line 5)) (4.0.0)\n",
            "Requirement already satisfied: sqlitedict in /usr/local/lib/python3.8/site-packages (from lm_eval<=0.4.1,>=0.4.0->-r requirements/requirements.txt (line 6)) (2.1.0)\n",
            "Requirement already satisfied: pytablewriter in /usr/local/lib/python3.8/site-packages (from lm_eval<=0.4.1,>=0.4.0->-r requirements/requirements.txt (line 6)) (1.2.0)\n",
            "Requirement already satisfied: numexpr in /usr/local/lib/python3.8/site-packages (from lm_eval<=0.4.1,>=0.4.0->-r requirements/requirements.txt (line 6)) (2.8.6)\n",
            "Requirement already satisfied: accelerate>=0.21.0 in /usr/local/lib/python3.8/site-packages (from lm_eval<=0.4.1,>=0.4.0->-r requirements/requirements.txt (line 6)) (1.0.1)\n",
            "Requirement already satisfied: sacrebleu>=1.5.0 in /usr/local/lib/python3.8/site-packages (from lm_eval<=0.4.1,>=0.4.0->-r requirements/requirements.txt (line 6)) (2.4.3)\n",
            "Requirement already satisfied: peft>=0.2.0 in /usr/local/lib/python3.8/site-packages (from lm_eval<=0.4.1,>=0.4.0->-r requirements/requirements.txt (line 6)) (0.13.2)\n",
            "Requirement already satisfied: evaluate>=0.4.0 in /usr/local/lib/python3.8/site-packages (from lm_eval<=0.4.1,>=0.4.0->-r requirements/requirements.txt (line 6)) (0.4.3)\n",
            "Requirement already satisfied: datasets>=2.14.0 in /usr/local/lib/python3.8/site-packages (from lm_eval<=0.4.1,>=0.4.0->-r requirements/requirements.txt (line 6)) (3.0.2)\n",
            "Requirement already satisfied: scikit-learn>=0.24.1 in /usr/local/lib/python3.8/site-packages (from lm_eval<=0.4.1,>=0.4.0->-r requirements/requirements.txt (line 6)) (1.3.2)\n",
            "Requirement already satisfied: tqdm-multiprocess in /usr/local/lib/python3.8/site-packages (from lm_eval<=0.4.1,>=0.4.0->-r requirements/requirements.txt (line 6)) (0.0.11)\n",
            "Requirement already satisfied: rouge-score>=0.0.4 in /usr/local/lib/python3.8/site-packages (from lm_eval<=0.4.1,>=0.4.0->-r requirements/requirements.txt (line 6)) (0.1.2)\n",
            "Requirement already satisfied: safetensors>=0.4.1 in /usr/local/lib/python3.8/site-packages (from transformers==4.38.0->-r requirements/requirements.txt (line 15)) (0.4.5)\n",
            "Requirement already satisfied: pydantic-core==2.23.4 in /usr/local/lib/python3.8/site-packages (from pydantic->deepspeed@ git+https://github.com/EleutherAI/DeeperSpeed.git@02e2ebf7dee6aaab3d89094ed470a4609763c742#egg=deepspeed->-r requirements/requirements.txt (line 1)) (2.23.4)\n",
            "Requirement already satisfied: annotated-types>=0.6.0 in /usr/local/lib/python3.8/site-packages (from pydantic->deepspeed@ git+https://github.com/EleutherAI/DeeperSpeed.git@02e2ebf7dee6aaab3d89094ed470a4609763c742#egg=deepspeed->-r requirements/requirements.txt (line 1)) (0.7.0)\n",
            "Requirement already satisfied: nvidia-nvtx-cu12==12.1.105; platform_system == \"Linux\" and platform_machine == \"x86_64\" in /usr/local/lib/python3.8/site-packages (from torch->deepspeed@ git+https://github.com/EleutherAI/DeeperSpeed.git@02e2ebf7dee6aaab3d89094ed470a4609763c742#egg=deepspeed->-r requirements/requirements.txt (line 1)) (12.1.105)\n",
            "Requirement already satisfied: nvidia-cudnn-cu12==9.1.0.70; platform_system == \"Linux\" and platform_machine == \"x86_64\" in /usr/local/lib/python3.8/site-packages (from torch->deepspeed@ git+https://github.com/EleutherAI/DeeperSpeed.git@02e2ebf7dee6aaab3d89094ed470a4609763c742#egg=deepspeed->-r requirements/requirements.txt (line 1)) (9.1.0.70)\n",
            "Requirement already satisfied: nvidia-nccl-cu12==2.20.5; platform_system == \"Linux\" and platform_machine == \"x86_64\" in /usr/local/lib/python3.8/site-packages (from torch->deepspeed@ git+https://github.com/EleutherAI/DeeperSpeed.git@02e2ebf7dee6aaab3d89094ed470a4609763c742#egg=deepspeed->-r requirements/requirements.txt (line 1)) (2.20.5)\n",
            "Requirement already satisfied: nvidia-cuda-runtime-cu12==12.1.105; platform_system == \"Linux\" and platform_machine == \"x86_64\" in /usr/local/lib/python3.8/site-packages (from torch->deepspeed@ git+https://github.com/EleutherAI/DeeperSpeed.git@02e2ebf7dee6aaab3d89094ed470a4609763c742#egg=deepspeed->-r requirements/requirements.txt (line 1)) (12.1.105)\n",
            "Requirement already satisfied: networkx in /usr/local/lib/python3.8/site-packages (from torch->deepspeed@ git+https://github.com/EleutherAI/DeeperSpeed.git@02e2ebf7dee6aaab3d89094ed470a4609763c742#egg=deepspeed->-r requirements/requirements.txt (line 1)) (3.1)\n",
            "Requirement already satisfied: nvidia-cuda-cupti-cu12==12.1.105; platform_system == \"Linux\" and platform_machine == \"x86_64\" in /usr/local/lib/python3.8/site-packages (from torch->deepspeed@ git+https://github.com/EleutherAI/DeeperSpeed.git@02e2ebf7dee6aaab3d89094ed470a4609763c742#egg=deepspeed->-r requirements/requirements.txt (line 1)) (12.1.105)\n",
            "Requirement already satisfied: nvidia-cufft-cu12==11.0.2.54; platform_system == \"Linux\" and platform_machine == \"x86_64\" in /usr/local/lib/python3.8/site-packages (from torch->deepspeed@ git+https://github.com/EleutherAI/DeeperSpeed.git@02e2ebf7dee6aaab3d89094ed470a4609763c742#egg=deepspeed->-r requirements/requirements.txt (line 1)) (11.0.2.54)\n",
            "Requirement already satisfied: nvidia-curand-cu12==10.3.2.106; platform_system == \"Linux\" and platform_machine == \"x86_64\" in /usr/local/lib/python3.8/site-packages (from torch->deepspeed@ git+https://github.com/EleutherAI/DeeperSpeed.git@02e2ebf7dee6aaab3d89094ed470a4609763c742#egg=deepspeed->-r requirements/requirements.txt (line 1)) (10.3.2.106)\n",
            "Requirement already satisfied: nvidia-cusolver-cu12==11.4.5.107; platform_system == \"Linux\" and platform_machine == \"x86_64\" in /usr/local/lib/python3.8/site-packages (from torch->deepspeed@ git+https://github.com/EleutherAI/DeeperSpeed.git@02e2ebf7dee6aaab3d89094ed470a4609763c742#egg=deepspeed->-r requirements/requirements.txt (line 1)) (11.4.5.107)\n",
            "Requirement already satisfied: nvidia-cuda-nvrtc-cu12==12.1.105; platform_system == \"Linux\" and platform_machine == \"x86_64\" in /usr/local/lib/python3.8/site-packages (from torch->deepspeed@ git+https://github.com/EleutherAI/DeeperSpeed.git@02e2ebf7dee6aaab3d89094ed470a4609763c742#egg=deepspeed->-r requirements/requirements.txt (line 1)) (12.1.105)\n",
            "Requirement already satisfied: nvidia-cusparse-cu12==12.1.0.106; platform_system == \"Linux\" and platform_machine == \"x86_64\" in /usr/local/lib/python3.8/site-packages (from torch->deepspeed@ git+https://github.com/EleutherAI/DeeperSpeed.git@02e2ebf7dee6aaab3d89094ed470a4609763c742#egg=deepspeed->-r requirements/requirements.txt (line 1)) (12.1.0.106)\n",
            "Requirement already satisfied: nvidia-cublas-cu12==12.1.3.1; platform_system == \"Linux\" and platform_machine == \"x86_64\" in /usr/local/lib/python3.8/site-packages (from torch->deepspeed@ git+https://github.com/EleutherAI/DeeperSpeed.git@02e2ebf7dee6aaab3d89094ed470a4609763c742#egg=deepspeed->-r requirements/requirements.txt (line 1)) (12.1.3.1)\n",
            "Requirement already satisfied: sympy in /usr/local/lib/python3.8/site-packages (from torch->deepspeed@ git+https://github.com/EleutherAI/DeeperSpeed.git@02e2ebf7dee6aaab3d89094ed470a4609763c742#egg=deepspeed->-r requirements/requirements.txt (line 1)) (1.13.3)\n",
            "Requirement already satisfied: triton==3.0.0; platform_system == \"Linux\" and platform_machine == \"x86_64\" and python_version < \"3.13\" in /usr/local/lib/python3.8/site-packages (from torch->deepspeed@ git+https://github.com/EleutherAI/DeeperSpeed.git@02e2ebf7dee6aaab3d89094ed470a4609763c742#egg=deepspeed->-r requirements/requirements.txt (line 1)) (3.0.0)\n",
            "Requirement already satisfied: idna<4,>=2.5 in /usr/local/lib/python3.8/site-packages (from requests->huggingface_hub>=0.11.0->-r requirements/requirements.txt (line 3)) (2.8)\n",
            "Requirement already satisfied: certifi>=2017.4.17 in /usr/local/lib/python3.8/site-packages (from requests->huggingface_hub>=0.11.0->-r requirements/requirements.txt (line 3)) (2024.8.30)\n",
            "Requirement already satisfied: urllib3<3,>=1.21.1 in /usr/local/lib/python3.8/site-packages (from requests->huggingface_hub>=0.11.0->-r requirements/requirements.txt (line 3)) (1.25.8)\n",
            "Requirement already satisfied: charset-normalizer<4,>=2 in /usr/local/lib/python3.8/site-packages (from requests->huggingface_hub>=0.11.0->-r requirements/requirements.txt (line 3)) (2.0.4)\n",
            "Requirement already satisfied: attrs>=19.2.0 in /usr/local/lib/python3.8/site-packages (from jsonlines->lm_dataformat@ git+https://github.com/EleutherAI/lm_dataformat.git@4eec05349977071bf67fc072290b95e31c8dd836->-r requirements/requirements.txt (line 5)) (24.2.0)\n",
            "Requirement already satisfied: pathvalidate<4,>=2.3.0 in /usr/local/lib/python3.8/site-packages (from pytablewriter->lm_eval<=0.4.1,>=0.4.0->-r requirements/requirements.txt (line 6)) (3.2.1)\n",
            "Requirement already satisfied: tabledata<2,>=1.3.1 in /usr/local/lib/python3.8/site-packages (from pytablewriter->lm_eval<=0.4.1,>=0.4.0->-r requirements/requirements.txt (line 6)) (1.3.3)\n",
            "Requirement already satisfied: setuptools>=38.3.0 in /usr/local/lib/python3.8/site-packages (from pytablewriter->lm_eval<=0.4.1,>=0.4.0->-r requirements/requirements.txt (line 6)) (45.2.0.post20200210)\n",
            "Requirement already satisfied: tcolorpy<1,>=0.0.5 in /usr/local/lib/python3.8/site-packages (from pytablewriter->lm_eval<=0.4.1,>=0.4.0->-r requirements/requirements.txt (line 6)) (0.1.6)\n",
            "Requirement already satisfied: mbstrdecoder<2,>=1.0.0 in /usr/local/lib/python3.8/site-packages (from pytablewriter->lm_eval<=0.4.1,>=0.4.0->-r requirements/requirements.txt (line 6)) (1.1.3)\n",
            "Requirement already satisfied: DataProperty<2,>=1.0.1 in /usr/local/lib/python3.8/site-packages (from pytablewriter->lm_eval<=0.4.1,>=0.4.0->-r requirements/requirements.txt (line 6)) (1.0.1)\n",
            "Requirement already satisfied: typepy[datetime]<2,>=1.3.2 in /usr/local/lib/python3.8/site-packages (from pytablewriter->lm_eval<=0.4.1,>=0.4.0->-r requirements/requirements.txt (line 6)) (1.3.2)\n",
            "Requirement already satisfied: tabulate>=0.8.9 in /usr/local/lib/python3.8/site-packages (from sacrebleu>=1.5.0->lm_eval<=0.4.1,>=0.4.0->-r requirements/requirements.txt (line 6)) (0.9.0)\n",
            "Requirement already satisfied: lxml in /usr/local/lib/python3.8/site-packages (from sacrebleu>=1.5.0->lm_eval<=0.4.1,>=0.4.0->-r requirements/requirements.txt (line 6)) (5.3.0)\n",
            "Requirement already satisfied: colorama in /usr/local/lib/python3.8/site-packages (from sacrebleu>=1.5.0->lm_eval<=0.4.1,>=0.4.0->-r requirements/requirements.txt (line 6)) (0.4.6)\n",
            "Requirement already satisfied: portalocker in /usr/local/lib/python3.8/site-packages (from sacrebleu>=1.5.0->lm_eval<=0.4.1,>=0.4.0->-r requirements/requirements.txt (line 6)) (2.10.1)\n",
            "Requirement already satisfied: dill in /usr/local/lib/python3.8/site-packages (from evaluate>=0.4.0->lm_eval<=0.4.1,>=0.4.0->-r requirements/requirements.txt (line 6)) (0.3.8)\n",
            "Requirement already satisfied: pandas in /usr/local/lib/python3.8/site-packages (from evaluate>=0.4.0->lm_eval<=0.4.1,>=0.4.0->-r requirements/requirements.txt (line 6)) (1.3.5)\n",
            "Requirement already satisfied: xxhash in /usr/local/lib/python3.8/site-packages (from evaluate>=0.4.0->lm_eval<=0.4.1,>=0.4.0->-r requirements/requirements.txt (line 6)) (3.5.0)\n",
            "Requirement already satisfied: multiprocess in /usr/local/lib/python3.8/site-packages (from evaluate>=0.4.0->lm_eval<=0.4.1,>=0.4.0->-r requirements/requirements.txt (line 6)) (0.70.16)\n",
            "Requirement already satisfied: aiohttp in /usr/local/lib/python3.8/site-packages (from datasets>=2.14.0->lm_eval<=0.4.1,>=0.4.0->-r requirements/requirements.txt (line 6)) (3.8.1)\n",
            "Requirement already satisfied: pyarrow>=15.0.0 in /usr/local/lib/python3.8/site-packages (from datasets>=2.14.0->lm_eval<=0.4.1,>=0.4.0->-r requirements/requirements.txt (line 6)) (17.0.0)\n",
            "Requirement already satisfied: joblib>=1.1.1 in /usr/local/lib/python3.8/site-packages (from scikit-learn>=0.24.1->lm_eval<=0.4.1,>=0.4.0->-r requirements/requirements.txt (line 6)) (1.4.2)\n",
            "Requirement already satisfied: threadpoolctl>=2.0.0 in /usr/local/lib/python3.8/site-packages (from scikit-learn>=0.24.1->lm_eval<=0.4.1,>=0.4.0->-r requirements/requirements.txt (line 6)) (3.5.0)\n",
            "Requirement already satisfied: scipy>=1.5.0 in /usr/local/lib/python3.8/site-packages (from scikit-learn>=0.24.1->lm_eval<=0.4.1,>=0.4.0->-r requirements/requirements.txt (line 6)) (1.10.1)\n",
            "Requirement already satisfied: absl-py in /usr/local/lib/python3.8/site-packages (from rouge-score>=0.0.4->lm_eval<=0.4.1,>=0.4.0->-r requirements/requirements.txt (line 6)) (2.1.0)\n",
            "Requirement already satisfied: nltk in /usr/local/lib/python3.8/site-packages (from rouge-score>=0.0.4->lm_eval<=0.4.1,>=0.4.0->-r requirements/requirements.txt (line 6)) (3.9.1)\n",
            "Requirement already satisfied: nvidia-nvjitlink-cu12 in /usr/local/lib/python3.8/site-packages (from nvidia-cusolver-cu12==11.4.5.107; platform_system == \"Linux\" and platform_machine == \"x86_64\"->torch->deepspeed@ git+https://github.com/EleutherAI/DeeperSpeed.git@02e2ebf7dee6aaab3d89094ed470a4609763c742#egg=deepspeed->-r requirements/requirements.txt (line 1)) (12.6.77)\n",
            "Requirement already satisfied: mpmath<1.4,>=1.1.0 in /usr/local/lib/python3.8/site-packages (from sympy->torch->deepspeed@ git+https://github.com/EleutherAI/DeeperSpeed.git@02e2ebf7dee6aaab3d89094ed470a4609763c742#egg=deepspeed->-r requirements/requirements.txt (line 1)) (1.3.0)\n",
            "Requirement already satisfied: chardet<6,>=3.0.4 in /usr/local/lib/python3.8/site-packages (from mbstrdecoder<2,>=1.0.0->pytablewriter->lm_eval<=0.4.1,>=0.4.0->-r requirements/requirements.txt (line 6)) (3.0.4)\n",
            "Requirement already satisfied: python-dateutil<3.0.0,>=2.8.0; extra == \"datetime\" in /usr/local/lib/python3.8/site-packages (from typepy[datetime]<2,>=1.3.2->pytablewriter->lm_eval<=0.4.1,>=0.4.0->-r requirements/requirements.txt (line 6)) (2.9.0.post0)\n",
            "Requirement already satisfied: pytz>=2018.9; extra == \"datetime\" in /usr/local/lib/python3.8/site-packages (from typepy[datetime]<2,>=1.3.2->pytablewriter->lm_eval<=0.4.1,>=0.4.0->-r requirements/requirements.txt (line 6)) (2024.1)\n",
            "Requirement already satisfied: aiosignal>=1.1.2 in /usr/local/lib/python3.8/site-packages (from aiohttp->datasets>=2.14.0->lm_eval<=0.4.1,>=0.4.0->-r requirements/requirements.txt (line 6)) (1.3.1)\n",
            "Requirement already satisfied: yarl<2.0,>=1.0 in /usr/local/lib/python3.8/site-packages (from aiohttp->datasets>=2.14.0->lm_eval<=0.4.1,>=0.4.0->-r requirements/requirements.txt (line 6)) (1.7.2)\n",
            "Requirement already satisfied: async-timeout<5.0,>=4.0.0a3 in /usr/local/lib/python3.8/site-packages (from aiohttp->datasets>=2.14.0->lm_eval<=0.4.1,>=0.4.0->-r requirements/requirements.txt (line 6)) (4.0.3)\n",
            "Requirement already satisfied: frozenlist>=1.1.1 in /usr/local/lib/python3.8/site-packages (from aiohttp->datasets>=2.14.0->lm_eval<=0.4.1,>=0.4.0->-r requirements/requirements.txt (line 6)) (1.4.0)\n",
            "Requirement already satisfied: multidict<7.0,>=4.5 in /usr/local/lib/python3.8/site-packages (from aiohttp->datasets>=2.14.0->lm_eval<=0.4.1,>=0.4.0->-r requirements/requirements.txt (line 6)) (6.0.4)\n",
            "Requirement already satisfied: click in /usr/local/lib/python3.8/site-packages (from nltk->rouge-score>=0.0.4->lm_eval<=0.4.1,>=0.4.0->-r requirements/requirements.txt (line 6)) (8.1.7)\n"
          ]
        }
      ]
    },
    {
      "cell_type": "code",
      "source": [
        "import requests\n",
        "from pathlib import Path\n",
        "\n",
        "# Download Shakespeare data\n",
        "url = \"https://raw.githubusercontent.com/karpathy/char-rnn/master/data/tinyshakespeare/input.txt\"\n",
        "response = requests.get(url)\n",
        "Path(\"shakespeare.txt\").write_text(response.text)\n",
        "\n",
        "# Split text into chunks\n",
        "with open(\"shakespeare.txt\") as f:\n",
        "    text = f.read()\n",
        "\n",
        "chunk_size = 256\n",
        "chunks = [text[i:i+chunk_size] for i in range(0, len(text), chunk_size)]\n",
        "\n",
        "# Save as JSONL format\n",
        "with open(\"shakespeare.jsonl\", \"w\") as f:\n",
        "    for chunk in chunks:\n",
        "        f.write(f'{{\"text\": \"{chunk}\"}}\\n')"
      ],
      "metadata": {
        "id": "0v0dLkx1dMWX"
      },
      "execution_count": 8,
      "outputs": []
    },
    {
      "cell_type": "code",
      "source": [
        "from tokenizers import ByteLevelBPETokenizer\n",
        "\n",
        "import os\n",
        "\n",
        "# Create the directory if it doesn't exist\n",
        "os.makedirs(\"tokenizer\", exist_ok=True)\n",
        "\n",
        "tokenizer = ByteLevelBPETokenizer()\n",
        "tokenizer.train(files=[\"shakespeare.txt\"], vocab_size=5000, min_frequency=2, special_tokens=[\n",
        "    \"<s>\",\n",
        "    \"<pad>\",\n",
        "    \"</s>\",\n",
        "    \"<unk>\",\n",
        "    \"<mask>\",\n",
        "])\n",
        "tokenizer.save_model(\"tokenizer\")"
      ],
      "metadata": {
        "id": "Eh6C1xKAe691",
        "colab": {
          "base_uri": "https://localhost:8080/"
        },
        "outputId": "fe294957-c0ab-4d0e-ea88-e04e55e3a054"
      },
      "execution_count": 9,
      "outputs": [
        {
          "output_type": "execute_result",
          "data": {
            "text/plain": [
              "['tokenizer/vocab.json', 'tokenizer/merges.txt']"
            ]
          },
          "metadata": {},
          "execution_count": 9
        }
      ]
    },
    {
      "cell_type": "code",
      "source": [
        "import yaml\n",
        "\n",
        "# Define the configuration data as a dictionary\n",
        "config_data = {\n",
        "    \"vocab-file\": \"shakespeare_tokenizer.json\",\n",
        "    \"hidden-size\": 384,\n",
        "    \"num-attention-heads\": 6,\n",
        "    \"num-layers\": 6,\n",
        "    \"max-position-embeddings\": 256,\n",
        "    \"micro-batch-size\": 32,\n",
        "    \"seq-length\": 256,\n",
        "    \"train-iters\": 5000,\n",
        "    \"lr-decay-iters\": 5000,\n",
        "    \"lr\": 6e-4,\n",
        "    \"min-lr\": 6e-5,\n",
        "    \"warmup\": 0.01,\n",
        "    \"adam-beta1\": 0.9,\n",
        "    \"adam-beta2\": 0.95,\n",
        "    \"weight-decay\": 0.1,\n",
        "    \"clip-grad\": 1.0,\n",
        "    \"fp16\": True\n",
        "}\n",
        "\n",
        "# Write the dictionary to a YAML file\n",
        "with open(\"shakespeare_config.yml\", \"w\") as f:\n",
        "    yaml.dump(config_data, f, default_flow_style=False)\n"
      ],
      "metadata": {
        "id": "mxRhJHB1f_fm"
      },
      "execution_count": 10,
      "outputs": []
    },
    {
      "cell_type": "code",
      "source": [
        "%run deepy.py train.py -d configs shakespeare_config.yml"
      ],
      "metadata": {
        "id": "v_TpzYvIg5E6",
        "colab": {
          "base_uri": "https://localhost:8080/",
          "height": 211
        },
        "outputId": "fffc7711-245d-454f-c6b9-7101989f354e"
      },
      "execution_count": 11,
      "outputs": [
        {
          "output_type": "error",
          "ename": "ModuleNotFoundError",
          "evalue": "No module named 'deepspeed'",
          "traceback": [
            "\u001b[0;31m---------------------------------------------------------------------------\u001b[0m",
            "\u001b[0;31mModuleNotFoundError\u001b[0m                       Traceback (most recent call last)",
            "\u001b[0;32m/content/gpt-neox/deepy.py\u001b[0m in \u001b[0;36m<module>\u001b[0;34m\u001b[0m\n\u001b[1;32m     17\u001b[0m \u001b[0;32mimport\u001b[0m \u001b[0mos\u001b[0m\u001b[0;34m\u001b[0m\u001b[0;34m\u001b[0m\u001b[0m\n\u001b[1;32m     18\u001b[0m \u001b[0;34m\u001b[0m\u001b[0m\n\u001b[0;32m---> 19\u001b[0;31m \u001b[0;32mimport\u001b[0m \u001b[0mdeepspeed\u001b[0m\u001b[0;34m.\u001b[0m\u001b[0mlauncher\u001b[0m\u001b[0;34m.\u001b[0m\u001b[0mrunner\u001b[0m\u001b[0;34m\u001b[0m\u001b[0;34m\u001b[0m\u001b[0m\n\u001b[0m\u001b[1;32m     20\u001b[0m \u001b[0;34m\u001b[0m\u001b[0m\n\u001b[1;32m     21\u001b[0m \u001b[0;34m\u001b[0m\u001b[0m\n",
            "\u001b[0;31mModuleNotFoundError\u001b[0m: No module named 'deepspeed'"
          ]
        }
      ]
    }
  ]
}