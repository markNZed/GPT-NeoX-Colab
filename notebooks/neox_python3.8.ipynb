{
  "cells": [
    {
      "cell_type": "markdown",
      "metadata": {
        "id": "view-in-github",
        "colab_type": "text"
      },
      "source": [
        "<a href=\"https://colab.research.google.com/github/markNZed/GPT-NeoX-Colab/blob/main/notebooks/neox_python3.8.ipynb\" target=\"_parent\"><img src=\"https://colab.research.google.com/assets/colab-badge.svg\" alt=\"Open In Colab\"/></a>"
      ]
    },
    {
      "cell_type": "markdown",
      "source": [
        "It is not obvious how to downgrade the Colab Python from 3.10 to 3.8 for GPT-NeoX There are some ideas at https://stackoverflow.com/questions/60775160/install-python-3-8-kernel-in-google-colaboratory"
      ],
      "metadata": {
        "id": "T5iS3bRPA7At"
      }
    },
    {
      "cell_type": "code",
      "execution_count": null,
      "metadata": {
        "colab": {
          "base_uri": "https://localhost:8080/"
        },
        "id": "CybKIA_9hQua",
        "outputId": "3b5194d1-2f01-47e1-ce7f-6a96cec7c4df"
      },
      "outputs": [
        {
          "name": "stdout",
          "output_type": "stream",
          "text": [
            "3.10.12 (main, Sep 11 2024, 15:47:36) [GCC 11.4.0]\n"
          ]
        }
      ],
      "source": [
        "import sys\n",
        "print(sys.version)"
      ]
    },
    {
      "cell_type": "code",
      "execution_count": null,
      "metadata": {
        "colab": {
          "base_uri": "https://localhost:8080/"
        },
        "collapsed": true,
        "id": "gbAdwGZshj_U",
        "outputId": "c7a907b7-773b-41f4-a557-521defd34c66"
      },
      "outputs": [
        {
          "name": "stdout",
          "output_type": "stream",
          "text": [
            "\r0% [Working]\r            \rGet:1 https://cloud.r-project.org/bin/linux/ubuntu jammy-cran40/ InRelease [3,626 B]\n",
            "\r0% [Connecting to archive.ubuntu.com (185.125.190.81)] [Waiting for headers] [1 InRelease 3,626 B/3,\r0% [Connecting to archive.ubuntu.com (185.125.190.81)] [Waiting for headers] [Waiting for headers] [\r                                                                                                    \rGet:2 https://developer.download.nvidia.com/compute/cuda/repos/ubuntu2204/x86_64  InRelease [1,581 B]\n",
            "\r0% [Connecting to archive.ubuntu.com (185.125.190.81)] [Waiting for headers] [Waiting for headers] [\r                                                                                                    \rGet:3 http://security.ubuntu.com/ubuntu jammy-security InRelease [129 kB]\n",
            "Ign:4 https://r2u.stat.illinois.edu/ubuntu jammy InRelease\n",
            "Get:5 https://r2u.stat.illinois.edu/ubuntu jammy Release [5,713 B]\n",
            "Hit:6 http://archive.ubuntu.com/ubuntu jammy InRelease\n",
            "Get:7 https://r2u.stat.illinois.edu/ubuntu jammy Release.gpg [793 B]\n",
            "Get:8 http://archive.ubuntu.com/ubuntu jammy-updates InRelease [128 kB]\n",
            "Hit:9 https://ppa.launchpadcontent.net/deadsnakes/ppa/ubuntu jammy InRelease\n",
            "Hit:10 https://ppa.launchpadcontent.net/graphics-drivers/ppa/ubuntu jammy InRelease\n",
            "Get:11 https://developer.download.nvidia.com/compute/cuda/repos/ubuntu2204/x86_64  Packages [1,071 kB]\n",
            "Hit:12 https://ppa.launchpadcontent.net/ubuntugis/ppa/ubuntu jammy InRelease\n",
            "Get:13 http://archive.ubuntu.com/ubuntu jammy-backports InRelease [127 kB]\n",
            "Get:14 https://r2u.stat.illinois.edu/ubuntu jammy/main all Packages [8,425 kB]\n",
            "Get:15 https://r2u.stat.illinois.edu/ubuntu jammy/main amd64 Packages [2,601 kB]\n",
            "Get:16 http://archive.ubuntu.com/ubuntu jammy-updates/main amd64 Packages [2,654 kB]\n",
            "Get:17 http://archive.ubuntu.com/ubuntu jammy-updates/universe amd64 Packages [1,450 kB]\n",
            "Fetched 16.6 MB in 4s (4,569 kB/s)\n",
            "^C\n",
            "Reading package lists... Done\n",
            "^C\n",
            "update-alternatives: error: alternative path /usr/bin/python3.8 doesn't exist\n",
            "Python 3.10.12\n",
            "Reading package lists... Done\n",
            "Building dependency tree... Done\n",
            "Reading state information... Done\n",
            "The following additional packages will be installed:\n",
            "  python3.8-lib2to3\n",
            "The following NEW packages will be installed:\n",
            "  python3.8-distutils python3.8-lib2to3\n",
            "0 upgraded, 2 newly installed, 0 to remove and 50 not upgraded.\n",
            "Need to get 319 kB of archives.\n",
            "After this operation, 1,237 kB of additional disk space will be used.\n",
            "Get:1 https://ppa.launchpadcontent.net/deadsnakes/ppa/ubuntu jammy/main amd64 python3.8-lib2to3 all 3.8.20-1+jammy1 [126 kB]\n",
            "Get:2 https://ppa.launchpadcontent.net/deadsnakes/ppa/ubuntu jammy/main amd64 python3.8-distutils all 3.8.20-1+jammy1 [193 kB]\n",
            "Fetched 319 kB in 1s (321 kB/s)\n",
            "debconf: apt-extracttemplates failed: No such file or directory\n",
            "E: Sub-process /usr/sbin/dpkg-preconfigure --apt || true received signal 2.\n",
            "E: Failure running script /usr/sbin/dpkg-preconfigure --apt || true\n",
            "--2024-10-27 16:10:27--  https://bootstrap.pypa.io/get-pip.py\n",
            "Resolving bootstrap.pypa.io (bootstrap.pypa.io)... 151.101.0.175, 151.101.64.175, 151.101.128.175, ...\n",
            "Connecting to bootstrap.pypa.io (bootstrap.pypa.io)|151.101.0.175|:443... connected.\n",
            "HTTP request sent, awaiting response... 200 OK\n",
            "Length: 2275701 (2.2M) [text/x-python]\n",
            "Saving to: ‘get-pip.py’\n",
            "\n",
            "get-pip.py          100%[===================>]   2.17M  --.-KB/s    in 0.08s   \n",
            "\n",
            "2024-10-27 16:10:28 (26.8 MB/s) - ‘get-pip.py’ saved [2275701/2275701]\n",
            "\n",
            "/bin/bash: line 1: python3.8: command not found\n",
            "/bin/bash: line 1: python3.8: command not found\n",
            "update-alternatives: error: alternative path /usr/bin/python3.8 doesn't exist\n"
          ]
        }
      ],
      "source": [
        "!apt-get update -y\n",
        "!apt-get install python3.8 python3.8-dev\n",
        "!update-alternatives --install /usr/bin/python3 python3 /usr/bin/python3.8 1\n",
        "!python --version\n",
        "!apt-get install python3.8-distutils\n",
        "!wget https://bootstrap.pypa.io/get-pip.py\n",
        "!python3.8 get-pip.py\n",
        "!python3.8 -m pip --version\n",
        "!update-alternatives --install /usr/bin/pip3 pip3 /usr/bin/python3.8 1"
      ]
    },
    {
      "cell_type": "code",
      "execution_count": null,
      "metadata": {
        "colab": {
          "base_uri": "https://localhost:8080/"
        },
        "collapsed": true,
        "id": "vLzwvyLUci6U",
        "outputId": "78ea6b1a-78b8-49a8-c6c8-05905ee443d8"
      },
      "outputs": [
        {
          "name": "stdout",
          "output_type": "stream",
          "text": [
            "fatal: destination path 'gpt-neox' already exists and is not an empty directory.\n",
            "/content/gpt-neox\n"
          ]
        }
      ],
      "source": [
        "!git clone https://github.com/EleutherAI/gpt-neox.git\n",
        "%cd /content/gpt-neox"
      ]
    },
    {
      "cell_type": "code",
      "execution_count": null,
      "metadata": {
        "colab": {
          "base_uri": "https://localhost:8080/"
        },
        "id": "54FX1tO6c5-A",
        "outputId": "649b3e97-8885-4e25-a0ef-5845d9a7017c"
      },
      "outputs": [
        {
          "name": "stdout",
          "output_type": "stream",
          "text": [
            "CITATION.cff\t\t      docker-compose.yml  images\t prepare_data.py  tools\n",
            "configs\t\t\t      Dockerfile\t  LICENSE\t README.md\t  train.py\n",
            "CONTRIBUTING.md\t\t      eval.py\t\t  MANIFEST.in\t README-MUP.md\n",
            "deepy.py\t\t      eval_tasks\t  megatron\t requirements\n",
            "docker-compose-dockerhub.yml  generate.py\t  post-training  tests\n"
          ]
        }
      ],
      "source": [
        "!ls"
      ]
    },
    {
      "cell_type": "code",
      "execution_count": null,
      "metadata": {
        "colab": {
          "base_uri": "https://localhost:8080/"
        },
        "id": "CPI2Cd1Nc-Fr",
        "outputId": "41141833-bc51-4fd0-c88b-2ce89fd44fd1"
      },
      "outputs": [
        {
          "name": "stdout",
          "output_type": "stream",
          "text": [
            "Requirement already satisfied: deepspeed@ git+https://github.com/EleutherAI/DeeperSpeed.git@02e2ebf7dee6aaab3d89094ed470a4609763c742#egg=deepspeed from git+https://github.com/EleutherAI/DeeperSpeed.git@02e2ebf7dee6aaab3d89094ed470a4609763c742#egg=deepspeed in /usr/local/lib/python3.8/site-packages (from -r requirements/requirements.txt (line 1)) (0.12.4+02e2ebf7)\n",
            "Requirement already satisfied: ftfy>=6.0.1 in /usr/local/lib/python3.8/site-packages (from -r requirements/requirements.txt (line 2)) (6.2.3)\n",
            "Requirement already satisfied: huggingface_hub>=0.11.0 in /usr/local/lib/python3.8/site-packages (from -r requirements/requirements.txt (line 3)) (0.26.1)\n",
            "Requirement already satisfied: jinja2==3.1.4 in /usr/local/lib/python3.8/site-packages (from -r requirements/requirements.txt (line 4)) (3.1.4)\n",
            "Requirement already satisfied: lm_dataformat@ git+https://github.com/EleutherAI/lm_dataformat.git@4eec05349977071bf67fc072290b95e31c8dd836 from git+https://github.com/EleutherAI/lm_dataformat.git@4eec05349977071bf67fc072290b95e31c8dd836 in /usr/local/lib/python3.8/site-packages (from -r requirements/requirements.txt (line 5)) (0.0.20)\n",
            "Requirement already satisfied: lm_eval<=0.4.1,>=0.4.0 in /usr/local/lib/python3.8/site-packages (from -r requirements/requirements.txt (line 6)) (0.4.1)\n",
            "Requirement already satisfied: mpi4py>=3.0.3 in /usr/local/lib/python3.8/site-packages (from -r requirements/requirements.txt (line 7)) (4.0.1)\n",
            "Requirement already satisfied: numpy<2.0 in /usr/local/lib/python3.8/site-packages (from -r requirements/requirements.txt (line 8)) (1.22.3)\n",
            "Requirement already satisfied: pybind11>=2.6.2 in /usr/local/lib/python3.8/site-packages (from -r requirements/requirements.txt (line 9)) (2.13.6)\n",
            "Requirement already satisfied: regex in /usr/local/lib/python3.8/site-packages (from -r requirements/requirements.txt (line 10)) (2024.9.11)\n",
            "Requirement already satisfied: sentencepiece in /usr/local/lib/python3.8/site-packages (from -r requirements/requirements.txt (line 11)) (0.2.0)\n",
            "Requirement already satisfied: six in /usr/local/lib/python3.8/site-packages (from -r requirements/requirements.txt (line 12)) (1.14.0)\n",
            "Requirement already satisfied: tiktoken>=0.1.2 in /usr/local/lib/python3.8/site-packages (from -r requirements/requirements.txt (line 13)) (0.7.0)\n",
            "Requirement already satisfied: tokenizers>=0.12.1 in /usr/local/lib/python3.8/site-packages (from -r requirements/requirements.txt (line 14)) (0.15.2)\n",
            "Requirement already satisfied: transformers==4.38.0 in /usr/local/lib/python3.8/site-packages (from -r requirements/requirements.txt (line 15)) (4.38.0)\n",
            "Requirement already satisfied: pydantic in /usr/local/lib/python3.8/site-packages (from deepspeed@ git+https://github.com/EleutherAI/DeeperSpeed.git@02e2ebf7dee6aaab3d89094ed470a4609763c742#egg=deepspeed->-r requirements/requirements.txt (line 1)) (2.9.2)\n",
            "Requirement already satisfied: pynvml in /usr/local/lib/python3.8/site-packages (from deepspeed@ git+https://github.com/EleutherAI/DeeperSpeed.git@02e2ebf7dee6aaab3d89094ed470a4609763c742#egg=deepspeed->-r requirements/requirements.txt (line 1)) (11.5.3)\n",
            "Requirement already satisfied: hjson in /usr/local/lib/python3.8/site-packages (from deepspeed@ git+https://github.com/EleutherAI/DeeperSpeed.git@02e2ebf7dee6aaab3d89094ed470a4609763c742#egg=deepspeed->-r requirements/requirements.txt (line 1)) (3.1.0)\n",
            "Requirement already satisfied: ninja in /usr/local/lib/python3.8/site-packages (from deepspeed@ git+https://github.com/EleutherAI/DeeperSpeed.git@02e2ebf7dee6aaab3d89094ed470a4609763c742#egg=deepspeed->-r requirements/requirements.txt (line 1)) (1.11.1.1)\n",
            "Requirement already satisfied: py-cpuinfo in /usr/local/lib/python3.8/site-packages (from deepspeed@ git+https://github.com/EleutherAI/DeeperSpeed.git@02e2ebf7dee6aaab3d89094ed470a4609763c742#egg=deepspeed->-r requirements/requirements.txt (line 1)) (9.0.0)\n",
            "Requirement already satisfied: torch in /usr/local/lib/python3.8/site-packages (from deepspeed@ git+https://github.com/EleutherAI/DeeperSpeed.git@02e2ebf7dee6aaab3d89094ed470a4609763c742#egg=deepspeed->-r requirements/requirements.txt (line 1)) (2.4.1)\n",
            "Requirement already satisfied: tqdm in /usr/local/lib/python3.8/site-packages (from deepspeed@ git+https://github.com/EleutherAI/DeeperSpeed.git@02e2ebf7dee6aaab3d89094ed470a4609763c742#egg=deepspeed->-r requirements/requirements.txt (line 1)) (4.66.3)\n",
            "Requirement already satisfied: psutil in /usr/local/lib/python3.8/site-packages (from deepspeed@ git+https://github.com/EleutherAI/DeeperSpeed.git@02e2ebf7dee6aaab3d89094ed470a4609763c742#egg=deepspeed->-r requirements/requirements.txt (line 1)) (5.8.0)\n",
            "Requirement already satisfied: packaging>=20.0 in /usr/local/lib/python3.8/site-packages (from deepspeed@ git+https://github.com/EleutherAI/DeeperSpeed.git@02e2ebf7dee6aaab3d89094ed470a4609763c742#egg=deepspeed->-r requirements/requirements.txt (line 1)) (24.1)\n",
            "Requirement already satisfied: wcwidth<0.3.0,>=0.2.12 in /usr/local/lib/python3.8/site-packages (from ftfy>=6.0.1->-r requirements/requirements.txt (line 2)) (0.2.13)\n",
            "Requirement already satisfied: filelock in /usr/local/lib/python3.8/site-packages (from huggingface_hub>=0.11.0->-r requirements/requirements.txt (line 3)) (3.16.1)\n",
            "Requirement already satisfied: fsspec>=2023.5.0 in /usr/local/lib/python3.8/site-packages (from huggingface_hub>=0.11.0->-r requirements/requirements.txt (line 3)) (2024.9.0)\n",
            "Requirement already satisfied: pyyaml>=5.1 in /usr/local/lib/python3.8/site-packages (from huggingface_hub>=0.11.0->-r requirements/requirements.txt (line 3)) (6.0.2)\n",
            "Requirement already satisfied: requests in /usr/local/lib/python3.8/site-packages (from huggingface_hub>=0.11.0->-r requirements/requirements.txt (line 3)) (2.32.2)\n",
            "Requirement already satisfied: typing-extensions>=3.7.4.3 in /usr/local/lib/python3.8/site-packages (from huggingface_hub>=0.11.0->-r requirements/requirements.txt (line 3)) (4.11.0)\n",
            "Requirement already satisfied: MarkupSafe>=2.0 in /usr/local/lib/python3.8/site-packages (from jinja2==3.1.4->-r requirements/requirements.txt (line 4)) (2.1.1)\n",
            "Requirement already satisfied: zstandard in /usr/local/lib/python3.8/site-packages (from lm_dataformat@ git+https://github.com/EleutherAI/lm_dataformat.git@4eec05349977071bf67fc072290b95e31c8dd836->-r requirements/requirements.txt (line 5)) (0.23.0)\n",
            "Requirement already satisfied: jsonlines in /usr/local/lib/python3.8/site-packages (from lm_dataformat@ git+https://github.com/EleutherAI/lm_dataformat.git@4eec05349977071bf67fc072290b95e31c8dd836->-r requirements/requirements.txt (line 5)) (4.0.0)\n",
            "Requirement already satisfied: ujson in /usr/local/lib/python3.8/site-packages (from lm_dataformat@ git+https://github.com/EleutherAI/lm_dataformat.git@4eec05349977071bf67fc072290b95e31c8dd836->-r requirements/requirements.txt (line 5)) (5.10.0)\n",
            "Requirement already satisfied: peft>=0.2.0 in /usr/local/lib/python3.8/site-packages (from lm_eval<=0.4.1,>=0.4.0->-r requirements/requirements.txt (line 6)) (0.13.2)\n",
            "Requirement already satisfied: scikit-learn>=0.24.1 in /usr/local/lib/python3.8/site-packages (from lm_eval<=0.4.1,>=0.4.0->-r requirements/requirements.txt (line 6)) (1.3.2)\n",
            "Requirement already satisfied: pytablewriter in /usr/local/lib/python3.8/site-packages (from lm_eval<=0.4.1,>=0.4.0->-r requirements/requirements.txt (line 6)) (1.2.0)\n",
            "Requirement already satisfied: numexpr in /usr/local/lib/python3.8/site-packages (from lm_eval<=0.4.1,>=0.4.0->-r requirements/requirements.txt (line 6)) (2.8.6)\n",
            "Requirement already satisfied: evaluate in /usr/local/lib/python3.8/site-packages (from lm_eval<=0.4.1,>=0.4.0->-r requirements/requirements.txt (line 6)) (0.4.3)\n",
            "Requirement already satisfied: rouge-score>=0.0.4 in /usr/local/lib/python3.8/site-packages (from lm_eval<=0.4.1,>=0.4.0->-r requirements/requirements.txt (line 6)) (0.1.2)\n",
            "Requirement already satisfied: sqlitedict in /usr/local/lib/python3.8/site-packages (from lm_eval<=0.4.1,>=0.4.0->-r requirements/requirements.txt (line 6)) (2.1.0)\n",
            "Requirement already satisfied: tqdm-multiprocess in /usr/local/lib/python3.8/site-packages (from lm_eval<=0.4.1,>=0.4.0->-r requirements/requirements.txt (line 6)) (0.0.11)\n",
            "Requirement already satisfied: accelerate>=0.21.0 in /usr/local/lib/python3.8/site-packages (from lm_eval<=0.4.1,>=0.4.0->-r requirements/requirements.txt (line 6)) (1.0.1)\n",
            "Requirement already satisfied: sacrebleu>=1.5.0 in /usr/local/lib/python3.8/site-packages (from lm_eval<=0.4.1,>=0.4.0->-r requirements/requirements.txt (line 6)) (2.4.3)\n",
            "Requirement already satisfied: datasets>=2.14.0 in /usr/local/lib/python3.8/site-packages (from lm_eval<=0.4.1,>=0.4.0->-r requirements/requirements.txt (line 6)) (3.0.2)\n",
            "Requirement already satisfied: safetensors>=0.4.1 in /usr/local/lib/python3.8/site-packages (from transformers==4.38.0->-r requirements/requirements.txt (line 15)) (0.4.5)\n",
            "Requirement already satisfied: pydantic-core==2.23.4 in /usr/local/lib/python3.8/site-packages (from pydantic->deepspeed@ git+https://github.com/EleutherAI/DeeperSpeed.git@02e2ebf7dee6aaab3d89094ed470a4609763c742#egg=deepspeed->-r requirements/requirements.txt (line 1)) (2.23.4)\n",
            "Requirement already satisfied: annotated-types>=0.6.0 in /usr/local/lib/python3.8/site-packages (from pydantic->deepspeed@ git+https://github.com/EleutherAI/DeeperSpeed.git@02e2ebf7dee6aaab3d89094ed470a4609763c742#egg=deepspeed->-r requirements/requirements.txt (line 1)) (0.7.0)\n",
            "Requirement already satisfied: nvidia-cuda-cupti-cu12==12.1.105; platform_system == \"Linux\" and platform_machine == \"x86_64\" in /usr/local/lib/python3.8/site-packages (from torch->deepspeed@ git+https://github.com/EleutherAI/DeeperSpeed.git@02e2ebf7dee6aaab3d89094ed470a4609763c742#egg=deepspeed->-r requirements/requirements.txt (line 1)) (12.1.105)\n",
            "Requirement already satisfied: nvidia-cuda-nvrtc-cu12==12.1.105; platform_system == \"Linux\" and platform_machine == \"x86_64\" in /usr/local/lib/python3.8/site-packages (from torch->deepspeed@ git+https://github.com/EleutherAI/DeeperSpeed.git@02e2ebf7dee6aaab3d89094ed470a4609763c742#egg=deepspeed->-r requirements/requirements.txt (line 1)) (12.1.105)\n",
            "Requirement already satisfied: nvidia-cublas-cu12==12.1.3.1; platform_system == \"Linux\" and platform_machine == \"x86_64\" in /usr/local/lib/python3.8/site-packages (from torch->deepspeed@ git+https://github.com/EleutherAI/DeeperSpeed.git@02e2ebf7dee6aaab3d89094ed470a4609763c742#egg=deepspeed->-r requirements/requirements.txt (line 1)) (12.1.3.1)\n",
            "Requirement already satisfied: networkx in /usr/local/lib/python3.8/site-packages (from torch->deepspeed@ git+https://github.com/EleutherAI/DeeperSpeed.git@02e2ebf7dee6aaab3d89094ed470a4609763c742#egg=deepspeed->-r requirements/requirements.txt (line 1)) (3.1)\n",
            "Requirement already satisfied: nvidia-cufft-cu12==11.0.2.54; platform_system == \"Linux\" and platform_machine == \"x86_64\" in /usr/local/lib/python3.8/site-packages (from torch->deepspeed@ git+https://github.com/EleutherAI/DeeperSpeed.git@02e2ebf7dee6aaab3d89094ed470a4609763c742#egg=deepspeed->-r requirements/requirements.txt (line 1)) (11.0.2.54)\n",
            "Requirement already satisfied: nvidia-curand-cu12==10.3.2.106; platform_system == \"Linux\" and platform_machine == \"x86_64\" in /usr/local/lib/python3.8/site-packages (from torch->deepspeed@ git+https://github.com/EleutherAI/DeeperSpeed.git@02e2ebf7dee6aaab3d89094ed470a4609763c742#egg=deepspeed->-r requirements/requirements.txt (line 1)) (10.3.2.106)\n",
            "Requirement already satisfied: nvidia-nccl-cu12==2.20.5; platform_system == \"Linux\" and platform_machine == \"x86_64\" in /usr/local/lib/python3.8/site-packages (from torch->deepspeed@ git+https://github.com/EleutherAI/DeeperSpeed.git@02e2ebf7dee6aaab3d89094ed470a4609763c742#egg=deepspeed->-r requirements/requirements.txt (line 1)) (2.20.5)\n",
            "Requirement already satisfied: nvidia-nvtx-cu12==12.1.105; platform_system == \"Linux\" and platform_machine == \"x86_64\" in /usr/local/lib/python3.8/site-packages (from torch->deepspeed@ git+https://github.com/EleutherAI/DeeperSpeed.git@02e2ebf7dee6aaab3d89094ed470a4609763c742#egg=deepspeed->-r requirements/requirements.txt (line 1)) (12.1.105)\n",
            "Requirement already satisfied: nvidia-cusolver-cu12==11.4.5.107; platform_system == \"Linux\" and platform_machine == \"x86_64\" in /usr/local/lib/python3.8/site-packages (from torch->deepspeed@ git+https://github.com/EleutherAI/DeeperSpeed.git@02e2ebf7dee6aaab3d89094ed470a4609763c742#egg=deepspeed->-r requirements/requirements.txt (line 1)) (11.4.5.107)\n",
            "Requirement already satisfied: nvidia-cusparse-cu12==12.1.0.106; platform_system == \"Linux\" and platform_machine == \"x86_64\" in /usr/local/lib/python3.8/site-packages (from torch->deepspeed@ git+https://github.com/EleutherAI/DeeperSpeed.git@02e2ebf7dee6aaab3d89094ed470a4609763c742#egg=deepspeed->-r requirements/requirements.txt (line 1)) (12.1.0.106)\n",
            "Requirement already satisfied: triton==3.0.0; platform_system == \"Linux\" and platform_machine == \"x86_64\" and python_version < \"3.13\" in /usr/local/lib/python3.8/site-packages (from torch->deepspeed@ git+https://github.com/EleutherAI/DeeperSpeed.git@02e2ebf7dee6aaab3d89094ed470a4609763c742#egg=deepspeed->-r requirements/requirements.txt (line 1)) (3.0.0)\n",
            "Requirement already satisfied: sympy in /usr/local/lib/python3.8/site-packages (from torch->deepspeed@ git+https://github.com/EleutherAI/DeeperSpeed.git@02e2ebf7dee6aaab3d89094ed470a4609763c742#egg=deepspeed->-r requirements/requirements.txt (line 1)) (1.13.3)\n",
            "Requirement already satisfied: nvidia-cudnn-cu12==9.1.0.70; platform_system == \"Linux\" and platform_machine == \"x86_64\" in /usr/local/lib/python3.8/site-packages (from torch->deepspeed@ git+https://github.com/EleutherAI/DeeperSpeed.git@02e2ebf7dee6aaab3d89094ed470a4609763c742#egg=deepspeed->-r requirements/requirements.txt (line 1)) (9.1.0.70)\n",
            "Requirement already satisfied: nvidia-cuda-runtime-cu12==12.1.105; platform_system == \"Linux\" and platform_machine == \"x86_64\" in /usr/local/lib/python3.8/site-packages (from torch->deepspeed@ git+https://github.com/EleutherAI/DeeperSpeed.git@02e2ebf7dee6aaab3d89094ed470a4609763c742#egg=deepspeed->-r requirements/requirements.txt (line 1)) (12.1.105)\n",
            "Requirement already satisfied: urllib3<3,>=1.21.1 in /usr/local/lib/python3.8/site-packages (from requests->huggingface_hub>=0.11.0->-r requirements/requirements.txt (line 3)) (1.25.8)\n",
            "Requirement already satisfied: certifi>=2017.4.17 in /usr/local/lib/python3.8/site-packages (from requests->huggingface_hub>=0.11.0->-r requirements/requirements.txt (line 3)) (2024.8.30)\n",
            "Requirement already satisfied: idna<4,>=2.5 in /usr/local/lib/python3.8/site-packages (from requests->huggingface_hub>=0.11.0->-r requirements/requirements.txt (line 3)) (2.8)\n",
            "Requirement already satisfied: charset-normalizer<4,>=2 in /usr/local/lib/python3.8/site-packages (from requests->huggingface_hub>=0.11.0->-r requirements/requirements.txt (line 3)) (2.0.4)\n",
            "Requirement already satisfied: attrs>=19.2.0 in /usr/local/lib/python3.8/site-packages (from jsonlines->lm_dataformat@ git+https://github.com/EleutherAI/lm_dataformat.git@4eec05349977071bf67fc072290b95e31c8dd836->-r requirements/requirements.txt (line 5)) (24.2.0)\n",
            "Requirement already satisfied: threadpoolctl>=2.0.0 in /usr/local/lib/python3.8/site-packages (from scikit-learn>=0.24.1->lm_eval<=0.4.1,>=0.4.0->-r requirements/requirements.txt (line 6)) (3.5.0)\n",
            "Requirement already satisfied: scipy>=1.5.0 in /usr/local/lib/python3.8/site-packages (from scikit-learn>=0.24.1->lm_eval<=0.4.1,>=0.4.0->-r requirements/requirements.txt (line 6)) (1.10.1)\n",
            "Requirement already satisfied: joblib>=1.1.1 in /usr/local/lib/python3.8/site-packages (from scikit-learn>=0.24.1->lm_eval<=0.4.1,>=0.4.0->-r requirements/requirements.txt (line 6)) (1.4.2)\n",
            "Requirement already satisfied: typepy[datetime]<2,>=1.3.2 in /usr/local/lib/python3.8/site-packages (from pytablewriter->lm_eval<=0.4.1,>=0.4.0->-r requirements/requirements.txt (line 6)) (1.3.2)\n",
            "Requirement already satisfied: pathvalidate<4,>=2.3.0 in /usr/local/lib/python3.8/site-packages (from pytablewriter->lm_eval<=0.4.1,>=0.4.0->-r requirements/requirements.txt (line 6)) (3.2.1)\n",
            "Requirement already satisfied: setuptools>=38.3.0 in /usr/local/lib/python3.8/site-packages (from pytablewriter->lm_eval<=0.4.1,>=0.4.0->-r requirements/requirements.txt (line 6)) (45.2.0.post20200210)\n",
            "Requirement already satisfied: DataProperty<2,>=1.0.1 in /usr/local/lib/python3.8/site-packages (from pytablewriter->lm_eval<=0.4.1,>=0.4.0->-r requirements/requirements.txt (line 6)) (1.0.1)\n",
            "Requirement already satisfied: tabledata<2,>=1.3.1 in /usr/local/lib/python3.8/site-packages (from pytablewriter->lm_eval<=0.4.1,>=0.4.0->-r requirements/requirements.txt (line 6)) (1.3.3)\n",
            "Requirement already satisfied: tcolorpy<1,>=0.0.5 in /usr/local/lib/python3.8/site-packages (from pytablewriter->lm_eval<=0.4.1,>=0.4.0->-r requirements/requirements.txt (line 6)) (0.1.6)\n",
            "Requirement already satisfied: mbstrdecoder<2,>=1.0.0 in /usr/local/lib/python3.8/site-packages (from pytablewriter->lm_eval<=0.4.1,>=0.4.0->-r requirements/requirements.txt (line 6)) (1.1.3)\n",
            "Requirement already satisfied: dill in /usr/local/lib/python3.8/site-packages (from evaluate->lm_eval<=0.4.1,>=0.4.0->-r requirements/requirements.txt (line 6)) (0.3.8)\n",
            "Requirement already satisfied: xxhash in /usr/local/lib/python3.8/site-packages (from evaluate->lm_eval<=0.4.1,>=0.4.0->-r requirements/requirements.txt (line 6)) (3.5.0)\n",
            "Requirement already satisfied: multiprocess in /usr/local/lib/python3.8/site-packages (from evaluate->lm_eval<=0.4.1,>=0.4.0->-r requirements/requirements.txt (line 6)) (0.70.16)\n",
            "Requirement already satisfied: pandas in /usr/local/lib/python3.8/site-packages (from evaluate->lm_eval<=0.4.1,>=0.4.0->-r requirements/requirements.txt (line 6)) (1.3.5)\n",
            "Requirement already satisfied: absl-py in /usr/local/lib/python3.8/site-packages (from rouge-score>=0.0.4->lm_eval<=0.4.1,>=0.4.0->-r requirements/requirements.txt (line 6)) (2.1.0)\n",
            "Requirement already satisfied: nltk in /usr/local/lib/python3.8/site-packages (from rouge-score>=0.0.4->lm_eval<=0.4.1,>=0.4.0->-r requirements/requirements.txt (line 6)) (3.9.1)\n",
            "Requirement already satisfied: colorama in /usr/local/lib/python3.8/site-packages (from tqdm-multiprocess->lm_eval<=0.4.1,>=0.4.0->-r requirements/requirements.txt (line 6)) (0.4.6)\n",
            "Requirement already satisfied: tabulate>=0.8.9 in /usr/local/lib/python3.8/site-packages (from sacrebleu>=1.5.0->lm_eval<=0.4.1,>=0.4.0->-r requirements/requirements.txt (line 6)) (0.9.0)\n",
            "Requirement already satisfied: lxml in /usr/local/lib/python3.8/site-packages (from sacrebleu>=1.5.0->lm_eval<=0.4.1,>=0.4.0->-r requirements/requirements.txt (line 6)) (5.3.0)\n",
            "Requirement already satisfied: portalocker in /usr/local/lib/python3.8/site-packages (from sacrebleu>=1.5.0->lm_eval<=0.4.1,>=0.4.0->-r requirements/requirements.txt (line 6)) (2.10.1)\n",
            "Requirement already satisfied: aiohttp in /usr/local/lib/python3.8/site-packages (from datasets>=2.14.0->lm_eval<=0.4.1,>=0.4.0->-r requirements/requirements.txt (line 6)) (3.8.1)\n",
            "Requirement already satisfied: pyarrow>=15.0.0 in /usr/local/lib/python3.8/site-packages (from datasets>=2.14.0->lm_eval<=0.4.1,>=0.4.0->-r requirements/requirements.txt (line 6)) (17.0.0)\n",
            "Requirement already satisfied: nvidia-nvjitlink-cu12 in /usr/local/lib/python3.8/site-packages (from nvidia-cusolver-cu12==11.4.5.107; platform_system == \"Linux\" and platform_machine == \"x86_64\"->torch->deepspeed@ git+https://github.com/EleutherAI/DeeperSpeed.git@02e2ebf7dee6aaab3d89094ed470a4609763c742#egg=deepspeed->-r requirements/requirements.txt (line 1)) (12.6.77)\n",
            "Requirement already satisfied: mpmath<1.4,>=1.1.0 in /usr/local/lib/python3.8/site-packages (from sympy->torch->deepspeed@ git+https://github.com/EleutherAI/DeeperSpeed.git@02e2ebf7dee6aaab3d89094ed470a4609763c742#egg=deepspeed->-r requirements/requirements.txt (line 1)) (1.3.0)\n",
            "Requirement already satisfied: pytz>=2018.9; extra == \"datetime\" in /usr/local/lib/python3.8/site-packages (from typepy[datetime]<2,>=1.3.2->pytablewriter->lm_eval<=0.4.1,>=0.4.0->-r requirements/requirements.txt (line 6)) (2024.1)\n",
            "Requirement already satisfied: python-dateutil<3.0.0,>=2.8.0; extra == \"datetime\" in /usr/local/lib/python3.8/site-packages (from typepy[datetime]<2,>=1.3.2->pytablewriter->lm_eval<=0.4.1,>=0.4.0->-r requirements/requirements.txt (line 6)) (2.9.0.post0)\n",
            "Requirement already satisfied: chardet<6,>=3.0.4 in /usr/local/lib/python3.8/site-packages (from mbstrdecoder<2,>=1.0.0->pytablewriter->lm_eval<=0.4.1,>=0.4.0->-r requirements/requirements.txt (line 6)) (3.0.4)\n",
            "Requirement already satisfied: click in /usr/local/lib/python3.8/site-packages (from nltk->rouge-score>=0.0.4->lm_eval<=0.4.1,>=0.4.0->-r requirements/requirements.txt (line 6)) (8.1.7)\n",
            "Requirement already satisfied: async-timeout<5.0,>=4.0.0a3 in /usr/local/lib/python3.8/site-packages (from aiohttp->datasets>=2.14.0->lm_eval<=0.4.1,>=0.4.0->-r requirements/requirements.txt (line 6)) (4.0.3)\n",
            "Requirement already satisfied: multidict<7.0,>=4.5 in /usr/local/lib/python3.8/site-packages (from aiohttp->datasets>=2.14.0->lm_eval<=0.4.1,>=0.4.0->-r requirements/requirements.txt (line 6)) (6.0.4)\n",
            "Requirement already satisfied: yarl<2.0,>=1.0 in /usr/local/lib/python3.8/site-packages (from aiohttp->datasets>=2.14.0->lm_eval<=0.4.1,>=0.4.0->-r requirements/requirements.txt (line 6)) (1.7.2)\n",
            "Requirement already satisfied: frozenlist>=1.1.1 in /usr/local/lib/python3.8/site-packages (from aiohttp->datasets>=2.14.0->lm_eval<=0.4.1,>=0.4.0->-r requirements/requirements.txt (line 6)) (1.4.0)\n",
            "Requirement already satisfied: aiosignal>=1.1.2 in /usr/local/lib/python3.8/site-packages (from aiohttp->datasets>=2.14.0->lm_eval<=0.4.1,>=0.4.0->-r requirements/requirements.txt (line 6)) (1.3.1)\n"
          ]
        }
      ],
      "source": [
        "!pip install -r requirements/requirements.txt"
      ]
    },
    {
      "cell_type": "code",
      "execution_count": null,
      "metadata": {
        "id": "mzL0z85r8A9c"
      },
      "outputs": [],
      "source": [
        "%pip show deepspeed\n"
      ]
    },
    {
      "cell_type": "code",
      "execution_count": null,
      "metadata": {
        "id": "0v0dLkx1dMWX"
      },
      "outputs": [],
      "source": [
        "import requests\n",
        "from pathlib import Path\n",
        "\n",
        "# Download Shakespeare data\n",
        "url = \"https://raw.githubusercontent.com/karpathy/char-rnn/master/data/tinyshakespeare/input.txt\"\n",
        "response = requests.get(url)\n",
        "Path(\"shakespeare.txt\").write_text(response.text)\n",
        "\n",
        "# Split text into chunks\n",
        "with open(\"shakespeare.txt\") as f:\n",
        "    text = f.read()\n",
        "\n",
        "chunk_size = 256\n",
        "chunks = [text[i:i+chunk_size] for i in range(0, len(text), chunk_size)]\n",
        "\n",
        "# Save as JSONL format\n",
        "with open(\"shakespeare.jsonl\", \"w\") as f:\n",
        "    for chunk in chunks:\n",
        "        f.write(f'{{\"text\": \"{chunk}\"}}\\n')"
      ]
    },
    {
      "cell_type": "code",
      "execution_count": null,
      "metadata": {
        "colab": {
          "base_uri": "https://localhost:8080/"
        },
        "id": "Eh6C1xKAe691",
        "outputId": "fe294957-c0ab-4d0e-ea88-e04e55e3a054"
      },
      "outputs": [
        {
          "data": {
            "text/plain": [
              "['tokenizer/vocab.json', 'tokenizer/merges.txt']"
            ]
          },
          "execution_count": 9,
          "metadata": {},
          "output_type": "execute_result"
        }
      ],
      "source": [
        "from tokenizers import ByteLevelBPETokenizer\n",
        "\n",
        "import os\n",
        "\n",
        "# Create the directory if it doesn't exist\n",
        "os.makedirs(\"tokenizer\", exist_ok=True)\n",
        "\n",
        "tokenizer = ByteLevelBPETokenizer()\n",
        "tokenizer.train(files=[\"shakespeare.txt\"], vocab_size=5000, min_frequency=2, special_tokens=[\n",
        "    \"<s>\",\n",
        "    \"<pad>\",\n",
        "    \"</s>\",\n",
        "    \"<unk>\",\n",
        "    \"<mask>\",\n",
        "])\n",
        "tokenizer.save_model(\"tokenizer\")"
      ]
    },
    {
      "cell_type": "code",
      "execution_count": null,
      "metadata": {
        "id": "mxRhJHB1f_fm"
      },
      "outputs": [],
      "source": [
        "import yaml\n",
        "\n",
        "# Define the configuration data as a dictionary\n",
        "config_data = {\n",
        "    \"vocab-file\": \"shakespeare_tokenizer.json\",\n",
        "    \"hidden-size\": 384,\n",
        "    \"num-attention-heads\": 6,\n",
        "    \"num-layers\": 6,\n",
        "    \"max-position-embeddings\": 256,\n",
        "    \"micro-batch-size\": 32,\n",
        "    \"seq-length\": 256,\n",
        "    \"train-iters\": 5000,\n",
        "    \"lr-decay-iters\": 5000,\n",
        "    \"lr\": 6e-4,\n",
        "    \"min-lr\": 6e-5,\n",
        "    \"warmup\": 0.01,\n",
        "    \"adam-beta1\": 0.9,\n",
        "    \"adam-beta2\": 0.95,\n",
        "    \"weight-decay\": 0.1,\n",
        "    \"clip-grad\": 1.0,\n",
        "    \"fp16\": True\n",
        "}\n",
        "\n",
        "# Write the dictionary to a YAML file\n",
        "with open(\"shakespeare_config.yml\", \"w\") as f:\n",
        "    yaml.dump(config_data, f, default_flow_style=False)\n"
      ]
    },
    {
      "cell_type": "code",
      "execution_count": null,
      "metadata": {
        "id": "iLjywfLX6qoN"
      },
      "outputs": [],
      "source": [
        "import deepspeed"
      ]
    },
    {
      "cell_type": "code",
      "execution_count": null,
      "metadata": {
        "id": "v_TpzYvIg5E6"
      },
      "outputs": [],
      "source": [
        "%run deepy.py train.py -d configs shakespeare_config.yml"
      ]
    }
  ],
  "metadata": {
    "colab": {
      "provenance": [],
      "include_colab_link": true
    },
    "kernelspec": {
      "display_name": "Python 3",
      "name": "python3"
    },
    "language_info": {
      "name": "python"
    }
  },
  "nbformat": 4,
  "nbformat_minor": 0
}