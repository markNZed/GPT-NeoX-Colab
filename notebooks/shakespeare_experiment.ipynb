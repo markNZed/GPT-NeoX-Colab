{
 "cells": [
  {
   "cell_type": "code",
   "execution_count": 1,
   "metadata": {},
   "outputs": [],
   "source": [
    "import GPTNeoXColab\n",
    "import os\n",
    "from pathlib import Path\n",
    "ROOT_DIR = GPTNeoXColab.utils.colab.find_project_root()\n",
    "RELATIVE_ROOT_DIR = os.path.relpath(ROOT_DIR, Path.cwd())"
   ]
  },
  {
   "cell_type": "code",
   "execution_count": 2,
   "metadata": {},
   "outputs": [],
   "source": [
    "experiment_name = \"experiment1\"  # Change this to dynamically load different experiments"
   ]
  },
  {
   "cell_type": "code",
   "execution_count": null,
   "metadata": {},
   "outputs": [],
   "source": [
    "def get_or_create_experiment_id(name):\n",
    "    exp = mlflow.get_experiment_by_name(name)\n",
    "    if exp is None:\n",
    "        exp_id = mlflow.create_experiment(name)\n",
    "        return exp_id\n",
    "    return exp.experiment_id"
   ]
  },
  {
   "cell_type": "code",
   "execution_count": 5,
   "metadata": {},
   "outputs": [
    {
     "data": {
      "text/html": [
       "<pre style=\"white-space:pre;overflow-x:auto;line-height:normal;font-family:Menlo,'DejaVu Sans Mono',consolas,'Courier New',monospace\">Initialized MLflow to track repo <span style=\"color: #008000; text-decoration-color: #008000\">\"MarkNZed/GPT-NeoX-Colab\"</span>\n",
       "</pre>\n"
      ],
      "text/plain": [
       "Initialized MLflow to track repo \u001b[32m\"MarkNZed/GPT-NeoX-Colab\"\u001b[0m\n"
      ]
     },
     "metadata": {},
     "output_type": "display_data"
    },
    {
     "data": {
      "text/html": [
       "<pre style=\"white-space:pre;overflow-x:auto;line-height:normal;font-family:Menlo,'DejaVu Sans Mono',consolas,'Courier New',monospace\">Repository MarkNZed/GPT-NeoX-Colab initialized!\n",
       "</pre>\n"
      ],
      "text/plain": [
       "Repository MarkNZed/GPT-NeoX-Colab initialized!\n"
      ]
     },
     "metadata": {},
     "output_type": "display_data"
    },
    {
     "name": "stdout",
     "output_type": "stream",
     "text": [
      "Running experiment: base_experiment\n",
      "dagshub:\n",
      "  repo_owner: MarkNZed\n",
      "  repo_name: GPT-NeoX-Colab\n",
      "output_dir: ../outputs\n",
      "experiment_name: base_experiment\n",
      "seed: 42\n",
      "model:\n",
      "  hidden_dim: 64\n",
      "training:\n",
      "  batch_size: 32\n",
      "  learning_rate: 0.001\n",
      "  epochs: 2\n",
      "data: null\n",
      "experiments:\n",
      "  experiment_name: experiment_1\n",
      "  seed: 123\n",
      "\n",
      "Training complete.\n"
     ]
    },
    {
     "name": "stderr",
     "output_type": "stream",
     "text": [
      "2024/11/10 13:46:26 INFO mlflow.tracking._tracking_service.client: 🏃 View run flawless-eel-650 at: https://dagshub.com/MarkNZed/GPT-NeoX-Colab.mlflow/#/experiments/2/runs/901b2fb3c2c44f8a8d77f4657dd7ff21.\n",
      "2024/11/10 13:46:26 INFO mlflow.tracking._tracking_service.client: 🧪 View experiment at: https://dagshub.com/MarkNZed/GPT-NeoX-Colab.mlflow/#/experiments/2.\n"
     ]
    }
   ],
   "source": [
    "import os\n",
    "import dagshub\n",
    "import mlflow\n",
    "from omegaconf import DictConfig, OmegaConf\n",
    "from hydra.core.global_hydra import GlobalHydra\n",
    "from hydra import initialize, compose\n",
    "\n",
    "# Clear Hydra's global state if it’s already initialized\n",
    "if GlobalHydra.instance().is_initialized():\n",
    "    GlobalHydra.instance().clear()\n",
    "\n",
    "initialize(config_path=f\"{RELATIVE_ROOT_DIR}/configs\", version_base=\"1.1\")\n",
    "\n",
    "cfg = compose(config_name=\"hydra\", overrides=[f\"experiments={experiment_name}\"])\n",
    "\n",
    "# Set MLflow tracking URI for DagsHub\n",
    "tracking_uri = f\"https://dagshub.com/{cfg.dagshub.repo_owner}/{cfg.dagshub.repo_name}.mlflow\"\n",
    "mlflow.set_tracking_uri(tracking_uri)\n",
    "\n",
    "# Initialize DagsHub logging\n",
    "try:\n",
    "    dagshub.init(repo_owner=cfg.dagshub.repo_owner, repo_name=cfg.dagshub.repo_name, mlflow=True)\n",
    "except Exception as e:\n",
    "    print(f\"Failed to initialize DagsHub logging: {e}\")\n",
    "\n",
    "def train_model(cfg: DictConfig):\n",
    "    print(\"Running experiment:\", cfg.experiment_name)\n",
    "    print(OmegaConf.to_yaml(cfg))\n",
    "\n",
    "    # Log parameters\n",
    "    mlflow.log_params(OmegaConf.to_container(cfg, resolve=True))\n",
    "\n",
    "    # Example dummy training loop\n",
    "    for epoch in range(10):\n",
    "        loss = 0.4 - epoch * 0.01  # Dummy decreasing loss\n",
    "        accuracy = epoch * 0.1     # Dummy increasing accuracy\n",
    "        mlflow.log_metric(\"train_loss\", loss, step=epoch)\n",
    "        mlflow.log_metric(\"train_accuracy\", accuracy, step=epoch)\n",
    "\n",
    "    print(\"Training complete.\")\n",
    "\n",
    "exp_id = get_or_create_experiment_id(\"tutorial\")\n",
    "\n",
    "# Set the experiment name and start the run\n",
    "# mlflow.set_experiment(experiment_name)\n",
    "with mlflow.start_run(experiment_id=exp_id):\n",
    "    train_model(cfg)\n"
   ]
  },
  {
   "cell_type": "code",
   "execution_count": 6,
   "metadata": {},
   "outputs": [
    {
     "data": {
      "text/plain": [
       "{'HOSTNAME': '619e00883352',\n",
       " 'HOME': '/home/vscode',\n",
       " 'PYTHONUNBUFFERED': '1',\n",
       " 'GPG_KEY': '<hidden>',\n",
       " 'BB_ACCESS_KEY_RW_ID': '<hidden>',\n",
       " 'PYTHON_SHA256': 'aab0950817735172601879872d937c1e4928a57c409ae02369ec3d91dccebe79',\n",
       " 'BB_BUCKET': 'GPT-NeoX-Colab',\n",
       " 'PYTHONDONTWRITEBYTECODE': '1',\n",
       " 'BB_ENDPOINT': 'https://s3.eu-central-003.backblazeb2.com',\n",
       " 'PATH': '/usr/local/bin:/home/vscode/.local/bin:/vscode/vscode-server/bin/linux-x64/384ff7382de624fb94dbaf6da11977bba1ecd427/bin/remote-cli:/usr/local/bin:/usr/local/sbin:/usr/local/bin:/usr/sbin:/usr/bin:/sbin:/bin:/vscode/vscode-server/bin/linux-x64/384ff7382de624fb94dbaf6da11977bba1ecd427/bin/remote-cli:/usr/local/bin:/usr/local/sbin:/usr/local/bin:/usr/sbin:/usr/bin:/sbin:/bin',\n",
       " 'LANG': 'C.UTF-8',\n",
       " 'SHELL': '/bin/sh',\n",
       " 'AWS_ACCESS_KEY_ID': '<hidden>',\n",
       " 'PYTHON_VERSION': '3.10.15',\n",
       " 'AWS_SECRET_ACCESS_KEY': '<hidden>',\n",
       " 'PWD': '/vscode/vscode-server/bin/linux-x64/384ff7382de624fb94dbaf6da11977bba1ecd427',\n",
       " 'VSCODE_CWD': '/vscode/vscode-server/bin/linux-x64/384ff7382de624fb94dbaf6da11977bba1ecd427',\n",
       " 'VSCODE_NLS_CONFIG': '{\"userLocale\":\"en\",\"osLocale\":\"en\",\"resolvedLanguage\":\"en\",\"defaultMessagesFile\":\"/vscode/vscode-server/bin/linux-x64/384ff7382de624fb94dbaf6da11977bba1ecd427/out/nls.messages.json\",\"locale\":\"en\",\"availableLanguages\":{}}',\n",
       " 'VSCODE_HANDLES_SIGPIPE': 'true',\n",
       " 'VSCODE_AMD_ENTRYPOINT': 'vs/workbench/api/node/extensionHostProcess',\n",
       " 'VSCODE_HANDLES_UNCAUGHT_ERRORS': 'true',\n",
       " 'REMOTE_CONTAINERS_IPC': '/tmp/vscode-remote-containers-ipc-528974ae-84d5-428e-8931-ea94ea1b5ddb.sock',\n",
       " 'REMOTE_CONTAINERS_SOCKETS': '[\"/tmp/vscode-ssh-auth-528974ae-84d5-428e-8931-ea94ea1b5ddb.sock\",\"/tmp/.X11-unix/X0\",\"/home/vscode/.gnupg/S.gpg-agent\"]',\n",
       " 'SSH_AUTH_SOCK': '/tmp/vscode-ssh-auth-528974ae-84d5-428e-8931-ea94ea1b5ddb.sock',\n",
       " 'DISPLAY': ':0',\n",
       " 'REMOTE_CONTAINERS_DISPLAY_SOCK': '/tmp/.X11-unix/X0',\n",
       " 'XDG_RUNTIME_DIR': '/tmp/user/1000',\n",
       " 'WAYLAND_DISPLAY': 'vscode-wayland-e83e2377-1023-489c-a49e-efa37fe21dad.sock',\n",
       " 'REMOTE_CONTAINERS': 'true',\n",
       " 'BROWSER': '/vscode/vscode-server/bin/linux-x64/384ff7382de624fb94dbaf6da11977bba1ecd427/bin/helpers/browser.sh',\n",
       " 'ELECTRON_RUN_AS_NODE': '1',\n",
       " 'VSCODE_IPC_HOOK_CLI': '/tmp/user/1000/vscode-ipc-2973bef6-3ef2-4cec-a1d4-6fd1632388a8.sock',\n",
       " 'VSCODE_L10N_BUNDLE_LOCATION': '',\n",
       " 'PYDEVD_IPYTHON_COMPATIBLE_DEBUGGING': '1',\n",
       " 'PYTHONIOENCODING': 'utf-8',\n",
       " 'PYTHON_FROZEN_MODULES': 'on',\n",
       " 'PYDEVD_USE_FRAME_EVAL': 'NO',\n",
       " 'TERM': 'xterm-color',\n",
       " 'CLICOLOR': '1',\n",
       " 'FORCE_COLOR': '1',\n",
       " 'CLICOLOR_FORCE': '1',\n",
       " 'PAGER': 'cat',\n",
       " 'GIT_PAGER': 'cat',\n",
       " 'MPLBACKEND': 'module://matplotlib_inline.backend_inline',\n",
       " 'MLFLOW_TRACKING_URI': 'https://dagshub.com/MarkNZed/GPT-NeoX-Colab.mlflow',\n",
       " 'MLFLOW_TRACKING_USERNAME': 'MarkNZed',\n",
       " 'MLFLOW_TRACKING_PASSWORD': 'fc4b3db9bb624ade9fc57743c98cbfbe0f2789df'}"
      ]
     },
     "execution_count": 6,
     "metadata": {},
     "output_type": "execute_result"
    }
   ],
   "source": [
    "env"
   ]
  },
  {
   "cell_type": "code",
   "execution_count": null,
   "metadata": {},
   "outputs": [],
   "source": []
  }
 ],
 "metadata": {
  "kernelspec": {
   "display_name": "Python 3",
   "language": "python",
   "name": "python3"
  },
  "language_info": {
   "codemirror_mode": {
    "name": "ipython",
    "version": 3
   },
   "file_extension": ".py",
   "mimetype": "text/x-python",
   "name": "python",
   "nbconvert_exporter": "python",
   "pygments_lexer": "ipython3",
   "version": "3.10.15"
  }
 },
 "nbformat": 4,
 "nbformat_minor": 2
}
