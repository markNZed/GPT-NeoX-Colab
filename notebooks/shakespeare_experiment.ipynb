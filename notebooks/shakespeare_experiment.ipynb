{
 "cells": [
  {
   "cell_type": "code",
   "execution_count": 2,
   "metadata": {},
   "outputs": [],
   "source": [
    "import GPTNeoXColab\n",
    "import os\n",
    "from pathlib import Path\n",
    "ROOT_DIR = GPTNeoXColab.utils.colab.find_project_root()\n",
    "RELATIVE_ROOT_DIR = os.path.relpath(ROOT_DIR, Path.cwd())"
   ]
  },
  {
   "cell_type": "code",
   "execution_count": null,
   "metadata": {},
   "outputs": [],
   "source": [
    "experiment_name = \"experiment1\"  # Change this to dynamically load different experiments"
   ]
  },
  {
   "cell_type": "code",
   "execution_count": 22,
   "metadata": {},
   "outputs": [
    {
     "name": "stdout",
     "output_type": "stream",
     "text": [
      "Tracking URI: https://dagshub.com/MarkNZed/GPT-NeoX-Colab.mlflow\n"
     ]
    },
    {
     "data": {
      "text/html": [
       "<pre style=\"white-space:pre;overflow-x:auto;line-height:normal;font-family:Menlo,'DejaVu Sans Mono',consolas,'Courier New',monospace\">Initialized MLflow to track repo <span style=\"color: #008000; text-decoration-color: #008000\">\"MarkNZed/GPT-NeoX-Colab\"</span>\n",
       "</pre>\n"
      ],
      "text/plain": [
       "Initialized MLflow to track repo \u001b[32m\"MarkNZed/GPT-NeoX-Colab\"\u001b[0m\n"
      ]
     },
     "metadata": {},
     "output_type": "display_data"
    },
    {
     "data": {
      "text/html": [
       "<pre style=\"white-space:pre;overflow-x:auto;line-height:normal;font-family:Menlo,'DejaVu Sans Mono',consolas,'Courier New',monospace\">Repository MarkNZed/GPT-NeoX-Colab initialized!\n",
       "</pre>\n"
      ],
      "text/plain": [
       "Repository MarkNZed/GPT-NeoX-Colab initialized!\n"
      ]
     },
     "metadata": {},
     "output_type": "display_data"
    },
    {
     "name": "stderr",
     "output_type": "stream",
     "text": [
      "2024/11/10 13:35:17 INFO mlflow.tracking.fluent: Experiment with name 'experiment1' does not exist. Creating a new experiment.\n"
     ]
    },
    {
     "name": "stdout",
     "output_type": "stream",
     "text": [
      "Running experiment: base_experiment\n",
      "output_dir: ../outputs\n",
      "experiment_name: base_experiment\n",
      "seed: 42\n",
      "dagshub:\n",
      "  repo_owner: MarkNZed\n",
      "  repo_name: GPT-NeoX-Colab\n",
      "experiments:\n",
      "  experiment_name: experiment_1\n",
      "  seed: 123\n",
      "\n",
      "Training complete.\n"
     ]
    },
    {
     "name": "stderr",
     "output_type": "stream",
     "text": [
      "2024/11/10 13:35:30 INFO mlflow.tracking._tracking_service.client: 🏃 View run awesome-gnat-811 at: https://dagshub.com/MarkNZed/GPT-NeoX-Colab.mlflow/#/experiments/2/runs/f96c7424acb44f34a69f3c723905f2d6.\n",
      "2024/11/10 13:35:30 INFO mlflow.tracking._tracking_service.client: 🧪 View experiment at: https://dagshub.com/MarkNZed/GPT-NeoX-Colab.mlflow/#/experiments/2.\n"
     ]
    }
   ],
   "source": [
    "import os\n",
    "import dagshub\n",
    "import mlflow\n",
    "from omegaconf import DictConfig, OmegaConf\n",
    "from hydra.core.global_hydra import GlobalHydra\n",
    "from hydra import initialize, compose\n",
    "\n",
    "# Clear Hydra's global state if it’s already initialized\n",
    "if GlobalHydra.instance().is_initialized():\n",
    "    GlobalHydra.instance().clear()\n",
    "\n",
    "initialize(config_path=f\"{RELATIVE_ROOT_DIR}/configs\", version_base=\"1.1\")\n",
    "\n",
    "cfg = compose(config_name=\"hydra\", overrides=[f\"experiments={experiment_name}\"])\n",
    "\n",
    "# Set MLflow tracking URI for DagsHub\n",
    "tracking_uri = f\"https://dagshub.com/{cfg.dagshub.repo_owner}/{cfg.dagshub.repo_name}.mlflow\"\n",
    "mlflow.set_tracking_uri(tracking_uri)\n",
    "\n",
    "# Initialize DagsHub logging\n",
    "try:\n",
    "    dagshub.init(repo_owner=cfg.dagshub.repo_owner, repo_name=cfg.dagshub.repo_name, mlflow=True)\n",
    "except Exception as e:\n",
    "    print(f\"Failed to initialize DagsHub logging: {e}\")\n",
    "\n",
    "def train_model(cfg: DictConfig):\n",
    "    print(\"Running experiment:\", cfg.experiment_name)\n",
    "    print(OmegaConf.to_yaml(cfg))\n",
    "\n",
    "    # Log parameters\n",
    "    mlflow.log_params(OmegaConf.to_container(cfg, resolve=True))\n",
    "\n",
    "    # Example dummy training loop\n",
    "    for epoch in range(10):\n",
    "        loss = 0.4 - epoch * 0.01  # Dummy decreasing loss\n",
    "        accuracy = epoch * 0.1     # Dummy increasing accuracy\n",
    "        mlflow.log_metric(\"train_loss\", loss, step=epoch)\n",
    "        mlflow.log_metric(\"train_accuracy\", accuracy, step=epoch)\n",
    "\n",
    "    print(\"Training complete.\")\n",
    "\n",
    "# Set the experiment name and start the run\n",
    "mlflow.set_experiment(experiment_name)\n",
    "with mlflow.start_run():\n",
    "    train_model(cfg)\n"
   ]
  }
 ],
 "metadata": {
  "kernelspec": {
   "display_name": "Python 3",
   "language": "python",
   "name": "python3"
  },
  "language_info": {
   "codemirror_mode": {
    "name": "ipython",
    "version": 3
   },
   "file_extension": ".py",
   "mimetype": "text/x-python",
   "name": "python",
   "nbconvert_exporter": "python",
   "pygments_lexer": "ipython3",
   "version": "3.10.15"
  }
 },
 "nbformat": 4,
 "nbformat_minor": 2
}
