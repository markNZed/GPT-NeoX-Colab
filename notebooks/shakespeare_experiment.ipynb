{
 "cells": [
  {
   "cell_type": "markdown",
   "metadata": {},
   "source": [
    "# Experiment\n",
    "This is a demonstration of how experiments can be run using DagsHub and MLflow.\n",
    "We will train three different versions of the tiny LLM using different batch sizes and compare the results. "
   ]
  },
  {
   "cell_type": "code",
   "execution_count": null,
   "metadata": {},
   "outputs": [],
   "source": [
    "# We could modify these paths to \"stub\" behavior for test/dev\n",
    "# Use functions so if the Notebook is restarted we do not lose the values\n",
    "def workspaceDir():\n",
    "    return \"/content\"\n",
    "def GPTNeoXDirName():\n",
    "    return \"gpt-neox\"\n",
    "def GPTNeoXDir():\n",
    "    return f\"{workspaceDir()}/{GPTNeoXDirName()}\"\n",
    "def GPTNeoXColabDirName():\n",
    "    return \"GPT-NeoX-Colab\"\n",
    "def GPTNeoXColabDir():\n",
    "    return f\"{workspaceDir()}/{GPTNeoXColabDirName()}\""
   ]
  },
  {
   "cell_type": "code",
   "execution_count": 1,
   "metadata": {},
   "outputs": [],
   "source": [
    "import GPTNeoXColab\n",
    "import os\n",
    "from pathlib import Path\n",
    "ROOT_DIR = GPTNeoXColab.utils.colab.find_project_root()\n",
    "RELATIVE_ROOT_DIR = os.path.relpath(ROOT_DIR, Path.cwd())"
   ]
  },
  {
   "cell_type": "code",
   "execution_count": null,
   "metadata": {},
   "outputs": [],
   "source": [
    "#@title Clone GPT-NeoX-Colab\n",
    "%%time\n",
    "%cd {workspaceDir()}\n",
    "# Don't use --depth 1 because that does not play nice with git-annex\n",
    "!git clone https://github.com/markNZed/GPT-NeoX-Colab.git\n",
    "%cd {GPTNeoXColabDir()}\n",
    "%pip install -q -r requirements_colab.txt\n",
    "%pip install -q .\n",
    "from dotenv import load_dotenv\n",
    "import os\n",
    "load_dotenv(f\"{GPTNeoXColabDir()}/.env\")\n",
    "import GPTNeoXColab\n",
    "GPTNeoXColab.utils.colab.fetch_data(\"data/shakespeare/shakespeare_text_document.bin\")\n",
    "GPTNeoXColab.utils.colab.fetch_data(\"data/shakespeare/shakespeare_text_document.idx\")"
   ]
  },
  {
   "cell_type": "code",
   "execution_count": null,
   "metadata": {},
   "outputs": [],
   "source": [
    "#@title Clone GPT-NeoX\n",
    "%%time\n",
    "%cd {workspaceDir()}\n",
    "!git clone --depth 1 https://github.com/EleutherAI/gpt-neox"
   ]
  },
  {
   "cell_type": "code",
   "execution_count": null,
   "metadata": {},
   "outputs": [],
   "source": [
    "#@title Load prebuilt Python environment for Colab\n",
    "%%time\n",
    "%cd {workspaceDir()}\n",
    "GPTNeoXColab.utils.colab.download_my_env()"
   ]
  },
  {
   "cell_type": "code",
   "execution_count": 2,
   "metadata": {},
   "outputs": [],
   "source": [
    "experiment_name = \"experiment1\"  # Change this to dynamically load different experiments"
   ]
  },
  {
   "cell_type": "code",
   "execution_count": 5,
   "metadata": {},
   "outputs": [
    {
     "data": {
      "text/html": [
       "<pre style=\"white-space:pre;overflow-x:auto;line-height:normal;font-family:Menlo,'DejaVu Sans Mono',consolas,'Courier New',monospace\">Accessing as MarkNZed\n",
       "</pre>\n"
      ],
      "text/plain": [
       "Accessing as MarkNZed\n"
      ]
     },
     "metadata": {},
     "output_type": "display_data"
    },
    {
     "data": {
      "text/html": [
       "<pre style=\"white-space:pre;overflow-x:auto;line-height:normal;font-family:Menlo,'DejaVu Sans Mono',consolas,'Courier New',monospace\">Initialized MLflow to track repo <span style=\"color: #008000; text-decoration-color: #008000\">\"MarkNZed/GPT-NeoX-Colab\"</span>\n",
       "</pre>\n"
      ],
      "text/plain": [
       "Initialized MLflow to track repo \u001b[32m\"MarkNZed/GPT-NeoX-Colab\"\u001b[0m\n"
      ]
     },
     "metadata": {},
     "output_type": "display_data"
    },
    {
     "data": {
      "text/html": [
       "<pre style=\"white-space:pre;overflow-x:auto;line-height:normal;font-family:Menlo,'DejaVu Sans Mono',consolas,'Courier New',monospace\">Repository MarkNZed/GPT-NeoX-Colab initialized!\n",
       "</pre>\n"
      ],
      "text/plain": [
       "Repository MarkNZed/GPT-NeoX-Colab initialized!\n"
      ]
     },
     "metadata": {},
     "output_type": "display_data"
    },
    {
     "name": "stdout",
     "output_type": "stream",
     "text": [
      "Running experiment: base_experiment\n",
      "dagshub:\n",
      "  repo_owner: MarkNZed\n",
      "  repo_name: GPT-NeoX-Colab\n",
      "output_dir: ../outputs\n",
      "experiment_name: base_experiment\n",
      "seed: 42\n",
      "model:\n",
      "  hidden_dim: 64\n",
      "training:\n",
      "  batch_size: 32\n",
      "  learning_rate: 0.001\n",
      "  epochs: 2\n",
      "data: null\n",
      "experiments:\n",
      "  experiment_name: experiment_1\n",
      "  seed: 123\n",
      "\n",
      "Training complete.\n"
     ]
    },
    {
     "name": "stderr",
     "output_type": "stream",
     "text": [
      "2024/11/10 14:11:49 INFO mlflow.tracking._tracking_service.client: 🏃 View run auspicious-cat-512 at: https://dagshub.com/MarkNZed/GPT-NeoX-Colab.mlflow/#/experiments/3/runs/0f5ed2de66614337ac7abfcc92199a0d.\n",
      "2024/11/10 14:11:49 INFO mlflow.tracking._tracking_service.client: 🧪 View experiment at: https://dagshub.com/MarkNZed/GPT-NeoX-Colab.mlflow/#/experiments/3.\n"
     ]
    }
   ],
   "source": [
    "#@title Run the training in a detached background process\n",
    "import subprocess\n",
    "import os\n",
    "import dagshub\n",
    "import mlflow\n",
    "from omegaconf import DictConfig, OmegaConf\n",
    "from hydra.core.global_hydra import GlobalHydra\n",
    "from hydra import initialize, compose\n",
    "\n",
    "# Clear Hydra's global state if it’s already initialized\n",
    "if GlobalHydra.instance().is_initialized():\n",
    "    GlobalHydra.instance().clear()\n",
    "\n",
    "initialize(config_path=f\"{RELATIVE_ROOT_DIR}/configs\", version_base=\"1.1\")\n",
    "\n",
    "cfg = compose(config_name=\"hydra\", overrides=[f\"experiments={experiment_name}\"])\n",
    "\n",
    "# Set MLflow tracking URI for DagsHub\n",
    "#MLFLOW_TRACKING_URI = f\"https://dagshub.com/{cfg.dagshub.repo_owner}/{cfg.dagshub.repo_name}.mlflow\"\n",
    "\n",
    "os.environ[\"DAGSHUB_USER\"] = cfg.dagshub.repo_owner\n",
    "os.environ[\"DAGSHUB_TOKEN\"] = \"\"\n",
    "\n",
    "# Initialize DagsHub logging\n",
    "try:\n",
    "    # Will setup MLFLOW_TRACKING_URI MLFLOW_TRACKING_USERNAME MLFLOW_TRACKING_PASSWORD\n",
    "    dagshub.init(repo_owner=cfg.dagshub.repo_owner, repo_name=cfg.dagshub.repo_name, mlflow=True)\n",
    "except Exception as e:\n",
    "    print(f\"Failed to initialize DagsHub logging: {e}\")\n",
    "\n",
    "def train_model(cfg: DictConfig):\n",
    "    print(\"Running experiment:\", cfg.experiment_name)\n",
    "    print(OmegaConf.to_yaml(cfg))\n",
    "\n",
    "    # Log parameters\n",
    "    mlflow.log_params(OmegaConf.to_container(cfg, resolve=True))\n",
    "\n",
    "\n",
    "    # The deepy.py script assumes it is running in the root of GTP-NeoX repo\n",
    "    # Start a detached background process\n",
    "    process = subprocess.Popen(\n",
    "        f\"nohup bash -c \\\"source {workspaceDir()}/my_env/bin/activate && python ./deepy.py train.py --conf_dir {GPTNeoXColabDir()}/configs shakespeare shakespeare_deepy\\\" & echo $! > train_process.pid\",\n",
    "        shell=True,\n",
    "        executable='/bin/bash',\n",
    "        preexec_fn=subprocess.os.setsid  # Starts the process in a new session so interrupting Notebook does not kill the training\n",
    "    )\n",
    "\n",
    "    print(\"Training complete.\")\n",
    "\n",
    "exp_id = GPTNeoXColab.utils.ml.get_or_create_experiment_id(\"tutorial\")\n",
    "\n",
    "# Set the experiment name and start the run\n",
    "# mlflow.set_experiment(experiment_name)\n",
    "with mlflow.start_run(experiment_id=exp_id):\n",
    "    train_model(cfg)\n"
   ]
  },
  {
   "cell_type": "code",
   "execution_count": null,
   "metadata": {},
   "outputs": [],
   "source": [
    "# Here we could disconnect from the GPU resource\n",
    "#from google.colab import runtime\n",
    "#runtime.unassign()"
   ]
  },
  {
   "cell_type": "code",
   "execution_count": 6,
   "metadata": {},
   "outputs": [],
   "source": [
    "# An example of creating a Data Pipeline diagram for DagsHub repo\n",
    "# https://dagshub.com/MarkNZed/GPT-NeoX-Colab/src/dvc\n",
    "\n",
    "dvc_yaml_content = \"\"\"\n",
    "stages:\n",
    "  preprocess:\n",
    "    cmd: python preprocess_script.py\n",
    "    deps:\n",
    "      - data/raw_data.csv\n",
    "      - preprocess_script.py\n",
    "    outs:\n",
    "      - data/processed_data.csv\n",
    "\n",
    "  train:\n",
    "    cmd: python train_script.py\n",
    "    deps:\n",
    "      - data/processed_data.csv\n",
    "      - train_script.py\n",
    "    outs:\n",
    "      - models/model.pkl\n",
    "    params:\n",
    "      - training.learning_rate\n",
    "\n",
    "  evaluate:\n",
    "    cmd: python evaluate_script.py\n",
    "    deps:\n",
    "      - models/model.pkl\n",
    "      - evaluate_script.py\n",
    "    outs:\n",
    "      - reports/metrics.json\n",
    "\"\"\"\n",
    "\n",
    "# Write the YAML content to dvc.yaml\n",
    "#with open(f\"{ROOT_DIR}/dvc.yaml\", \"w\") as f:\n",
    "#    f.write(dvc_yaml_content)\n"
   ]
  }
 ],
 "metadata": {
  "kernelspec": {
   "display_name": "Python 3",
   "language": "python",
   "name": "python3"
  },
  "language_info": {
   "codemirror_mode": {
    "name": "ipython",
    "version": 3
   },
   "file_extension": ".py",
   "mimetype": "text/x-python",
   "name": "python",
   "nbconvert_exporter": "python",
   "pygments_lexer": "ipython3",
   "version": "3.10.15"
  }
 },
 "nbformat": 4,
 "nbformat_minor": 2
}
