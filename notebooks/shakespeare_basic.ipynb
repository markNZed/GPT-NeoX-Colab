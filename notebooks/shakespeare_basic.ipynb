{
 "cells": [
  {
   "cell_type": "markdown",
   "metadata": {
    "colab_type": "text",
    "id": "view-in-github"
   },
   "source": [
    "<a href=\"https://colab.research.google.com/github/markNZed/GPT-NeoX-Colab/blob/main/notebooks/shakespeare_training.ipynb\" target=\"_parent\"><img src=\"https://colab.research.google.com/assets/colab-badge.svg\" alt=\"Open In Colab\"/></a>"
   ]
  },
  {
   "cell_type": "markdown",
   "metadata": {
    "id": "52lBrppZd_A0"
   },
   "source": [
    "# Training a tiny SLM on a corpus of Shakespeare\n",
    "The intention of this notebook is to demonstrate a basic setup for experimenting with a tiny SLM."
   ]
  },
  {
   "cell_type": "code",
   "execution_count": null,
   "metadata": {
    "id": "HBH4eN9Id_A7"
   },
   "outputs": [],
   "source": [
    "# We could modify these paths to \"stub\" behavior for test/dev\n",
    "workspaceDir = \"/content\"\n",
    "gpt_neox_colabDir = f\"{workspaceDir}/GPT-NeoX-Colab\"\n",
    "GPTNeoXDirName = \"gpt-neox\"\n",
    "GPTNeoXDir = f\"{workspaceDir}/{GPTNeoXDirName}\""
   ]
  },
  {
   "cell_type": "markdown",
   "metadata": {
    "id": "74e27VRVq07s"
   },
   "source": [
    "# Cloning Git Repos"
   ]
  },
  {
   "cell_type": "code",
   "execution_count": null,
   "metadata": {
    "collapsed": true,
    "id": "j_hUsQxlhnou"
   },
   "outputs": [],
   "source": [
    "!git clone --depth 1 https://github.com/markNZed/GPT-NeoX-Colab.git"
   ]
  },
  {
   "cell_type": "code",
   "execution_count": null,
   "metadata": {
    "colab": {
     "base_uri": "https://localhost:8080/"
    },
    "collapsed": true,
    "id": "FjLEIFCR6d8m",
    "outputId": "698173a2-b4e3-45d3-dfb4-4dd0f16ff5d7"
   },
   "outputs": [
    {
     "name": "stdout",
     "output_type": "stream",
     "text": [
      "/content\n",
      "fatal: destination path 'gpt-neox' already exists and is not an empty directory.\n",
      "CPU times: user 7.02 ms, sys: 0 ns, total: 7.02 ms\n",
      "Wall time: 106 ms\n"
     ]
    }
   ],
   "source": [
    "%%time\n",
    "#@title Clone GPT-NeoX\n",
    "%cd {workspaceDir}\n",
    "!git clone -b pipe_parallel_size_1 --depth 1 https://github.com/markNZed/gpt-neox.git"
   ]
  },
  {
   "cell_type": "code",
   "execution_count": null,
   "metadata": {
    "colab": {
     "base_uri": "https://localhost:8080/"
    },
    "collapsed": true,
    "id": "AUmdStRWhrUR",
    "outputId": "ee40b0a2-70b1-4687-ebde-aa8719d58dc5"
   },
   "outputs": [
    {
     "name": "stdout",
     "output_type": "stream",
     "text": [
      "/content/gpt-neox\n",
      "  Installing build dependencies ... \u001b[?25l\u001b[?25hdone\n",
      "  Getting requirements to build wheel ... \u001b[?25l\u001b[?25hdone\n",
      "  Installing backend dependencies ... \u001b[?25l\u001b[?25hdone\n",
      "  Preparing metadata (pyproject.toml) ... \u001b[?25l\u001b[?25hdone\n",
      "  Building wheel for mpi4py (pyproject.toml) ... \u001b[?25l\u001b[?25hdone\n"
     ]
    }
   ],
   "source": [
    "%pip install -q torch==2.3 torchaudio==2.3.0 torchvision==0.18.0 transformers==4.38.0 sentence-transformers==2.2.2\n",
    "%pip install -q fsspec==2024.2.0 datasets==2.14.0 evaluate==0.4.3 lm-eval==0.4.1 tensorboard==2.17.1 tensorflow==2.17.1\n",
    "%cd {GPTNeoXDir}\n",
    "%pip install -q -r ./requirements/requirements.txt"
   ]
  },
  {
   "cell_type": "markdown",
   "metadata": {
    "id": "2jzX5ohGax6p"
   },
   "source": [
    "# Preparing Dataset"
   ]
  },
  {
   "cell_type": "code",
   "execution_count": null,
   "metadata": {
    "colab": {
     "base_uri": "https://localhost:8080/"
    },
    "id": "N-hmZjCc-WnV",
    "outputId": "852383d9-ead1-4326-cd89-05884211a2ac"
   },
   "outputs": [
    {
     "name": "stdout",
     "output_type": "stream",
     "text": [
      "/content/gpt-neox\n"
     ]
    }
   ],
   "source": [
    "#@title Converting text data to jsonl format\n",
    "!source {activate_script} && python -c \"import gpt_neox_colab.utils; gpt_neox_colab.utils.ml.text2jsonl(\\\"{gpt_neox_colabDir}/data/shakespeare/shakespeare.txt\\\", \\\"{gpt_neox_colabDir}/data/shakespeare/shakespeare.jsonl\\\")\"\n",
    "!cp {gpt_neox_colabDir}/data/shakespeare/shakespeare.jsonl {GPTNeoXDir}/data/shakespeare.jsonl"
   ]
  },
  {
   "cell_type": "markdown",
   "metadata": {
    "id": "x57thNaLa-yN"
   },
   "source": [
    "# Tokenizing Dataset"
   ]
  },
  {
   "cell_type": "code",
   "execution_count": null,
   "metadata": {
    "colab": {
     "base_uri": "https://localhost:8080/"
    },
    "id": "JyD8RujkEUsr",
    "outputId": "f6fb1ce3-7929-4606-a06d-3b4268dcd13f"
   },
   "outputs": [
    {
     "name": "stdout",
     "output_type": "stream",
     "text": [
      "/content/gpt-neox\n",
      "/content/gpt-neox/processed_data\n",
      "CPU times: user 15.2 ms, sys: 1.2 ms, total: 16.4 ms\n",
      "Wall time: 312 ms\n"
     ]
    }
   ],
   "source": [
    "%%time\n",
    "#@title Tokenizing jsonl formatted data\n",
    "import os\n",
    "\n",
    "%cd {GPTNeoXDir}\n",
    "!mkdir -p processed_data\n",
    "%cd processed_data\n",
    "cmd = f\"\"\"\n",
    "source {activate_script} && python {GPTNeoXDir}/tools/datasets/preprocess_data.py \\\n",
    "    --input {GPTNeoXDir}/data/shakespeare.jsonl \\\n",
    "    --output-prefix shakespeare \\\n",
    "    --tokenizer-type CharLevelTokenizer \\\n",
    "    --dataset-impl mmap \\\n",
    "    --append-eod\n",
    "\"\"\"\n",
    "print(f\"Command: {cmd}\")\n",
    "!source {activate_script} && python {GPTNeoXDir}/tools/datasets/preprocess_data.py \\\n",
    "    --input {GPTNeoXDir}/data/shakespeare.jsonl \\\n",
    "    --output-prefix shakespeare \\\n",
    "    --tokenizer-type CharLevelTokenizer \\\n",
    "    --dataset-impl mmap \\\n",
    "    --append-eod\n",
    "!cp {GPTNeoXDir}/processed_data/shakespeare_text_document.bin {GPTNeoXDir}/processed_data\n",
    "!cp {GPTNeoXDir}/processed_data/shakespeare_text_document.idx {GPTNeoXDir}/processed_data"
   ]
  },
  {
   "cell_type": "markdown",
   "metadata": {
    "id": "QszVj7_vSP7L"
   },
   "source": [
    "# Training"
   ]
  },
  {
   "cell_type": "code",
   "execution_count": null,
   "metadata": {
    "colab": {
     "base_uri": "https://localhost:8080/"
    },
    "id": "PtOHyiVDhrUZ",
    "outputId": "175b7734-d0dd-41a7-db0c-8ff133eb7b87"
   },
   "outputs": [
    {
     "name": "stdout",
     "output_type": "stream",
     "text": [
      "Running command: \n",
      "nohup nohup bash -c \" source /content/GPT-NeoX-Colab/.venv/bin/activate && cd /content/gpt-neox && python ./deepy.py train.py --conf_dir /content/GPT-NeoX-Colab/configs shakespeare shakespeare_deepy \"\n",
      "\n",
      "Started training with PID: 4824\n"
     ]
    }
   ],
   "source": [
    "%cd {GPTNeoXDir}\n",
    "!python ./deepy.py train.py --conf_dir {gpt_neox_colabDir}/configs shakespeare shakespeare_deepy"
   ]
  },
  {
   "cell_type": "markdown",
   "metadata": {
    "id": "sk8DhmmEZFyz"
   },
   "source": [
    "# Inference"
   ]
  },
  {
   "cell_type": "code",
   "execution_count": null,
   "metadata": {
    "id": "PKb0Ar6NZFyz"
   },
   "outputs": [],
   "source": [
    "%%time\n",
    "%cd {GPTNeoXDir}\n",
    "# This has issues if used during training -  The server socket has failed to bind to [::]:29500 (errno: 98 - Address already\n",
    "# This will write over the logs\n",
    "!source {activate_script} && python ./deepy.py generate.py -d configs {gpt_neox_colabDir}/configs/shakespeare {gpt_neox_colabDir}/configs/shakespeare_gen\n",
    "!cat sample_output.txt"
   ]
  }
 ],
 "metadata": {
  "colab": {
   "include_colab_link": true,
   "machine_shape": "hm",
   "provenance": []
  },
  "kernelspec": {
   "display_name": "Python 3",
   "name": "python3"
  },
  "language_info": {
   "codemirror_mode": {
    "name": "ipython",
    "version": 3
   },
   "file_extension": ".py",
   "mimetype": "text/x-python",
   "name": "python",
   "nbconvert_exporter": "python",
   "pygments_lexer": "ipython3",
   "version": "3.10.12"
  }
 },
 "nbformat": 4,
 "nbformat_minor": 0
}
