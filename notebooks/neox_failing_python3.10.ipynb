{
  "cells": [
    {
      "cell_type": "markdown",
      "metadata": {
        "colab_type": "text",
        "id": "view-in-github"
      },
      "source": [
        "<a href=\"https://colab.research.google.com/github/markNZed/GPT-NeoX-Colab/blob/main/notebooks/neox_failing_python3.10.ipynb\" target=\"_parent\"><img src=\"https://colab.research.google.com/assets/colab-badge.svg\" alt=\"Open In Colab\"/></a>"
      ]
    },
    {
      "cell_type": "code",
      "execution_count": 21,
      "metadata": {
        "colab": {
          "base_uri": "https://localhost:8080/"
        },
        "id": "CybKIA_9hQua",
        "outputId": "3b5194d1-2f01-47e1-ce7f-6a96cec7c4df"
      },
      "outputs": [
        {
          "name": "stdout",
          "output_type": "stream",
          "text": [
            "3.10.12 (main, Sep 11 2024, 15:47:36) [GCC 11.4.0]\n"
          ]
        }
      ],
      "source": [
        "import sys\n",
        "print(sys.version)"
      ]
    },
    {
      "cell_type": "code",
      "execution_count": 6,
      "metadata": {
        "colab": {
          "base_uri": "https://localhost:8080/"
        },
        "collapsed": true,
        "id": "vLzwvyLUci6U",
        "outputId": "78ea6b1a-78b8-49a8-c6c8-05905ee443d8"
      },
      "outputs": [
        {
          "name": "stdout",
          "output_type": "stream",
          "text": [
            "fatal: destination path 'gpt-neox' already exists and is not an empty directory.\n",
            "/content/gpt-neox\n"
          ]
        }
      ],
      "source": [
        "!git clone https://github.com/EleutherAI/gpt-neox.git\n",
        "%cd /content/gpt-neox"
      ]
    },
    {
      "cell_type": "code",
      "execution_count": 7,
      "metadata": {
        "colab": {
          "base_uri": "https://localhost:8080/"
        },
        "id": "54FX1tO6c5-A",
        "outputId": "649b3e97-8885-4e25-a0ef-5845d9a7017c"
      },
      "outputs": [
        {
          "name": "stdout",
          "output_type": "stream",
          "text": [
            "CITATION.cff\t\t      docker-compose.yml  images\t prepare_data.py  tools\n",
            "configs\t\t\t      Dockerfile\t  LICENSE\t README.md\t  train.py\n",
            "CONTRIBUTING.md\t\t      eval.py\t\t  MANIFEST.in\t README-MUP.md\n",
            "deepy.py\t\t      eval_tasks\t  megatron\t requirements\n",
            "docker-compose-dockerhub.yml  generate.py\t  post-training  tests\n"
          ]
        }
      ],
      "source": [
        "!ls"
      ]
    },
    {
      "cell_type": "code",
      "execution_count": 12,
      "metadata": {
        "colab": {
          "base_uri": "https://localhost:8080/"
        },
        "id": "rP2y1zIn5EVp",
        "outputId": "1d2ad571-7245-4ba5-cc45-562ddb48e32e"
      },
      "outputs": [
        {
          "name": "stdout",
          "output_type": "stream",
          "text": [
            "Collecting tokenizers==0.15.2\n",
            "  Downloading tokenizers-0.15.2-cp38-cp38-manylinux_2_17_x86_64.manylinux2014_x86_64.whl (3.6 MB)\n",
            "\u001b[K     |████████████████████████████████| 3.6 MB 3.2 MB/s \n",
            "\u001b[?25hRequirement already satisfied: huggingface_hub<1.0,>=0.16.4 in /usr/local/lib/python3.8/site-packages (from tokenizers==0.15.2) (0.26.1)\n",
            "Requirement already satisfied: filelock in /usr/local/lib/python3.8/site-packages (from huggingface_hub<1.0,>=0.16.4->tokenizers==0.15.2) (3.16.1)\n",
            "Requirement already satisfied: typing-extensions>=3.7.4.3 in /usr/local/lib/python3.8/site-packages (from huggingface_hub<1.0,>=0.16.4->tokenizers==0.15.2) (4.11.0)\n",
            "Requirement already satisfied: packaging>=20.9 in /usr/local/lib/python3.8/site-packages (from huggingface_hub<1.0,>=0.16.4->tokenizers==0.15.2) (24.1)\n",
            "Requirement already satisfied: fsspec>=2023.5.0 in /usr/local/lib/python3.8/site-packages (from huggingface_hub<1.0,>=0.16.4->tokenizers==0.15.2) (2024.9.0)\n",
            "Requirement already satisfied: tqdm>=4.42.1 in /usr/local/lib/python3.8/site-packages (from huggingface_hub<1.0,>=0.16.4->tokenizers==0.15.2) (4.66.3)\n",
            "Requirement already satisfied: requests in /usr/local/lib/python3.8/site-packages (from huggingface_hub<1.0,>=0.16.4->tokenizers==0.15.2) (2.32.2)\n",
            "Requirement already satisfied: pyyaml>=5.1 in /usr/local/lib/python3.8/site-packages (from huggingface_hub<1.0,>=0.16.4->tokenizers==0.15.2) (6.0.2)\n",
            "Requirement already satisfied: idna<4,>=2.5 in /usr/local/lib/python3.8/site-packages (from requests->huggingface_hub<1.0,>=0.16.4->tokenizers==0.15.2) (2.8)\n",
            "Requirement already satisfied: certifi>=2017.4.17 in /usr/local/lib/python3.8/site-packages (from requests->huggingface_hub<1.0,>=0.16.4->tokenizers==0.15.2) (2024.8.30)\n",
            "Requirement already satisfied: urllib3<3,>=1.21.1 in /usr/local/lib/python3.8/site-packages (from requests->huggingface_hub<1.0,>=0.16.4->tokenizers==0.15.2) (1.25.8)\n",
            "Requirement already satisfied: charset-normalizer<4,>=2 in /usr/local/lib/python3.8/site-packages (from requests->huggingface_hub<1.0,>=0.16.4->tokenizers==0.15.2) (2.0.4)\n",
            "Installing collected packages: tokenizers\n",
            "  Attempting uninstall: tokenizers\n",
            "    Found existing installation: tokenizers 0.20.1\n",
            "    Uninstalling tokenizers-0.20.1:\n",
            "      Successfully uninstalled tokenizers-0.20.1\n",
            "Successfully installed tokenizers-0.15.2\n",
            "/bin/bash: line 1: 0.19: No such file or directory\n",
            "Requirement already satisfied: datasets==3.0.2 in /usr/local/lib/python3.8/site-packages (3.0.2)\n",
            "Requirement already satisfied: fsspec==2024.9.0 in /usr/local/lib/python3.8/site-packages (2024.9.0)\n",
            "Requirement already satisfied: tqdm==4.66.3 in /usr/local/lib/python3.8/site-packages (4.66.3)\n",
            "Requirement already satisfied: requests==2.32.2 in /usr/local/lib/python3.8/site-packages (2.32.2)\n",
            "Requirement already satisfied: filelock in /usr/local/lib/python3.8/site-packages (from datasets==3.0.2) (3.16.1)\n",
            "Requirement already satisfied: numpy>=1.17 in /usr/local/lib/python3.8/site-packages (from datasets==3.0.2) (1.22.3)\n",
            "Requirement already satisfied: pyyaml>=5.1 in /usr/local/lib/python3.8/site-packages (from datasets==3.0.2) (6.0.2)\n",
            "Requirement already satisfied: xxhash in /usr/local/lib/python3.8/site-packages (from datasets==3.0.2) (3.5.0)\n",
            "Requirement already satisfied: aiohttp in /usr/local/lib/python3.8/site-packages (from datasets==3.0.2) (3.8.1)\n",
            "Requirement already satisfied: pandas in /usr/local/lib/python3.8/site-packages (from datasets==3.0.2) (1.3.5)\n",
            "Requirement already satisfied: packaging in /usr/local/lib/python3.8/site-packages (from datasets==3.0.2) (24.1)\n",
            "Requirement already satisfied: multiprocess<0.70.17 in /usr/local/lib/python3.8/site-packages (from datasets==3.0.2) (0.70.16)\n",
            "Requirement already satisfied: dill<0.3.9,>=0.3.0 in /usr/local/lib/python3.8/site-packages (from datasets==3.0.2) (0.3.8)\n",
            "Requirement already satisfied: huggingface-hub>=0.23.0 in /usr/local/lib/python3.8/site-packages (from datasets==3.0.2) (0.26.1)\n",
            "Requirement already satisfied: pyarrow>=15.0.0 in /usr/local/lib/python3.8/site-packages (from datasets==3.0.2) (17.0.0)\n",
            "Requirement already satisfied: certifi>=2017.4.17 in /usr/local/lib/python3.8/site-packages (from requests==2.32.2) (2024.8.30)\n",
            "Requirement already satisfied: urllib3<3,>=1.21.1 in /usr/local/lib/python3.8/site-packages (from requests==2.32.2) (1.25.8)\n",
            "Requirement already satisfied: charset-normalizer<4,>=2 in /usr/local/lib/python3.8/site-packages (from requests==2.32.2) (2.0.4)\n",
            "Requirement already satisfied: idna<4,>=2.5 in /usr/local/lib/python3.8/site-packages (from requests==2.32.2) (2.8)\n",
            "Requirement already satisfied: multidict<7.0,>=4.5 in /usr/local/lib/python3.8/site-packages (from aiohttp->datasets==3.0.2) (6.0.4)\n",
            "Requirement already satisfied: aiosignal>=1.1.2 in /usr/local/lib/python3.8/site-packages (from aiohttp->datasets==3.0.2) (1.3.1)\n",
            "Requirement already satisfied: async-timeout<5.0,>=4.0.0a3 in /usr/local/lib/python3.8/site-packages (from aiohttp->datasets==3.0.2) (4.0.3)\n",
            "Requirement already satisfied: yarl<2.0,>=1.0 in /usr/local/lib/python3.8/site-packages (from aiohttp->datasets==3.0.2) (1.7.2)\n",
            "Requirement already satisfied: frozenlist>=1.1.1 in /usr/local/lib/python3.8/site-packages (from aiohttp->datasets==3.0.2) (1.4.0)\n",
            "Requirement already satisfied: attrs>=17.3.0 in /usr/local/lib/python3.8/site-packages (from aiohttp->datasets==3.0.2) (24.2.0)\n",
            "Requirement already satisfied: python-dateutil>=2.7.3 in /usr/local/lib/python3.8/site-packages (from pandas->datasets==3.0.2) (2.9.0.post0)\n",
            "Requirement already satisfied: pytz>=2017.3 in /usr/local/lib/python3.8/site-packages (from pandas->datasets==3.0.2) (2024.1)\n",
            "Requirement already satisfied: typing-extensions>=3.7.4.3 in /usr/local/lib/python3.8/site-packages (from huggingface-hub>=0.23.0->datasets==3.0.2) (4.11.0)\n",
            "Requirement already satisfied: six>=1.5 in /usr/local/lib/python3.8/site-packages (from python-dateutil>=2.7.3->pandas->datasets==3.0.2) (1.14.0)\n",
            "Requirement already satisfied: evaluate==0.4.3 in /usr/local/lib/python3.8/site-packages (0.4.3)\n",
            "Requirement already satisfied: tqdm==4.66.3 in /usr/local/lib/python3.8/site-packages (4.66.3)\n",
            "Requirement already satisfied: pandas in /usr/local/lib/python3.8/site-packages (from evaluate==0.4.3) (1.3.5)\n",
            "Requirement already satisfied: requests>=2.19.0 in /usr/local/lib/python3.8/site-packages (from evaluate==0.4.3) (2.32.2)\n",
            "Requirement already satisfied: xxhash in /usr/local/lib/python3.8/site-packages (from evaluate==0.4.3) (3.5.0)\n",
            "Requirement already satisfied: huggingface-hub>=0.7.0 in /usr/local/lib/python3.8/site-packages (from evaluate==0.4.3) (0.26.1)\n",
            "Requirement already satisfied: packaging in /usr/local/lib/python3.8/site-packages (from evaluate==0.4.3) (24.1)\n",
            "Requirement already satisfied: multiprocess in /usr/local/lib/python3.8/site-packages (from evaluate==0.4.3) (0.70.16)\n",
            "Requirement already satisfied: dill in /usr/local/lib/python3.8/site-packages (from evaluate==0.4.3) (0.3.8)\n",
            "Requirement already satisfied: fsspec[http]>=2021.05.0 in /usr/local/lib/python3.8/site-packages (from evaluate==0.4.3) (2024.9.0)\n",
            "Requirement already satisfied: numpy>=1.17 in /usr/local/lib/python3.8/site-packages (from evaluate==0.4.3) (1.22.3)\n",
            "Requirement already satisfied: datasets>=2.0.0 in /usr/local/lib/python3.8/site-packages (from evaluate==0.4.3) (3.0.2)\n",
            "Requirement already satisfied: python-dateutil>=2.7.3 in /usr/local/lib/python3.8/site-packages (from pandas->evaluate==0.4.3) (2.9.0.post0)\n",
            "Requirement already satisfied: pytz>=2017.3 in /usr/local/lib/python3.8/site-packages (from pandas->evaluate==0.4.3) (2024.1)\n",
            "Requirement already satisfied: certifi>=2017.4.17 in /usr/local/lib/python3.8/site-packages (from requests>=2.19.0->evaluate==0.4.3) (2024.8.30)\n",
            "Requirement already satisfied: idna<4,>=2.5 in /usr/local/lib/python3.8/site-packages (from requests>=2.19.0->evaluate==0.4.3) (2.8)\n",
            "Requirement already satisfied: urllib3<3,>=1.21.1 in /usr/local/lib/python3.8/site-packages (from requests>=2.19.0->evaluate==0.4.3) (1.25.8)\n",
            "Requirement already satisfied: charset-normalizer<4,>=2 in /usr/local/lib/python3.8/site-packages (from requests>=2.19.0->evaluate==0.4.3) (2.0.4)\n",
            "Requirement already satisfied: pyyaml>=5.1 in /usr/local/lib/python3.8/site-packages (from huggingface-hub>=0.7.0->evaluate==0.4.3) (6.0.2)\n",
            "Requirement already satisfied: typing-extensions>=3.7.4.3 in /usr/local/lib/python3.8/site-packages (from huggingface-hub>=0.7.0->evaluate==0.4.3) (4.11.0)\n",
            "Requirement already satisfied: filelock in /usr/local/lib/python3.8/site-packages (from huggingface-hub>=0.7.0->evaluate==0.4.3) (3.16.1)\n",
            "Requirement already satisfied: aiohttp!=4.0.0a0,!=4.0.0a1; extra == \"http\" in /usr/local/lib/python3.8/site-packages (from fsspec[http]>=2021.05.0->evaluate==0.4.3) (3.8.1)\n",
            "Requirement already satisfied: pyarrow>=15.0.0 in /usr/local/lib/python3.8/site-packages (from datasets>=2.0.0->evaluate==0.4.3) (17.0.0)\n",
            "Requirement already satisfied: six>=1.5 in /usr/local/lib/python3.8/site-packages (from python-dateutil>=2.7.3->pandas->evaluate==0.4.3) (1.14.0)\n",
            "Requirement already satisfied: multidict<7.0,>=4.5 in /usr/local/lib/python3.8/site-packages (from aiohttp!=4.0.0a0,!=4.0.0a1; extra == \"http\"->fsspec[http]>=2021.05.0->evaluate==0.4.3) (6.0.4)\n",
            "Requirement already satisfied: attrs>=17.3.0 in /usr/local/lib/python3.8/site-packages (from aiohttp!=4.0.0a0,!=4.0.0a1; extra == \"http\"->fsspec[http]>=2021.05.0->evaluate==0.4.3) (24.2.0)\n",
            "Requirement already satisfied: yarl<2.0,>=1.0 in /usr/local/lib/python3.8/site-packages (from aiohttp!=4.0.0a0,!=4.0.0a1; extra == \"http\"->fsspec[http]>=2021.05.0->evaluate==0.4.3) (1.7.2)\n",
            "Requirement already satisfied: async-timeout<5.0,>=4.0.0a3 in /usr/local/lib/python3.8/site-packages (from aiohttp!=4.0.0a0,!=4.0.0a1; extra == \"http\"->fsspec[http]>=2021.05.0->evaluate==0.4.3) (4.0.3)\n",
            "Requirement already satisfied: aiosignal>=1.1.2 in /usr/local/lib/python3.8/site-packages (from aiohttp!=4.0.0a0,!=4.0.0a1; extra == \"http\"->fsspec[http]>=2021.05.0->evaluate==0.4.3) (1.3.1)\n",
            "Requirement already satisfied: frozenlist>=1.1.1 in /usr/local/lib/python3.8/site-packages (from aiohttp!=4.0.0a0,!=4.0.0a1; extra == \"http\"->fsspec[http]>=2021.05.0->evaluate==0.4.3) (1.4.0)\n"
          ]
        }
      ],
      "source": [
        "!pip install tokenizers==0.15.2\n",
        "!pip install transformers==4.38.0 tokenizers<0.19\n",
        "!pip install datasets==3.0.2 fsspec==2024.9.0 tqdm==4.66.3 requests==2.32.2\n",
        "!pip install evaluate==0.4.3 tqdm==4.66.3\n",
        "!pip install tiktoken==0.7.0 requests>=2.26.0"
      ]
    },
    {
      "cell_type": "code",
      "execution_count": 13,
      "metadata": {
        "colab": {
          "base_uri": "https://localhost:8080/"
        },
        "id": "CPI2Cd1Nc-Fr",
        "outputId": "41141833-bc51-4fd0-c88b-2ce89fd44fd1"
      },
      "outputs": [
        {
          "name": "stdout",
          "output_type": "stream",
          "text": [
            "Requirement already satisfied: deepspeed@ git+https://github.com/EleutherAI/DeeperSpeed.git@02e2ebf7dee6aaab3d89094ed470a4609763c742#egg=deepspeed from git+https://github.com/EleutherAI/DeeperSpeed.git@02e2ebf7dee6aaab3d89094ed470a4609763c742#egg=deepspeed in /usr/local/lib/python3.8/site-packages (from -r requirements/requirements.txt (line 1)) (0.12.4+02e2ebf7)\n",
            "Requirement already satisfied: ftfy>=6.0.1 in /usr/local/lib/python3.8/site-packages (from -r requirements/requirements.txt (line 2)) (6.2.3)\n",
            "Requirement already satisfied: huggingface_hub>=0.11.0 in /usr/local/lib/python3.8/site-packages (from -r requirements/requirements.txt (line 3)) (0.26.1)\n",
            "Requirement already satisfied: jinja2==3.1.4 in /usr/local/lib/python3.8/site-packages (from -r requirements/requirements.txt (line 4)) (3.1.4)\n",
            "Requirement already satisfied: lm_dataformat@ git+https://github.com/EleutherAI/lm_dataformat.git@4eec05349977071bf67fc072290b95e31c8dd836 from git+https://github.com/EleutherAI/lm_dataformat.git@4eec05349977071bf67fc072290b95e31c8dd836 in /usr/local/lib/python3.8/site-packages (from -r requirements/requirements.txt (line 5)) (0.0.20)\n",
            "Requirement already satisfied: lm_eval<=0.4.1,>=0.4.0 in /usr/local/lib/python3.8/site-packages (from -r requirements/requirements.txt (line 6)) (0.4.1)\n",
            "Requirement already satisfied: mpi4py>=3.0.3 in /usr/local/lib/python3.8/site-packages (from -r requirements/requirements.txt (line 7)) (4.0.1)\n",
            "Requirement already satisfied: numpy<2.0 in /usr/local/lib/python3.8/site-packages (from -r requirements/requirements.txt (line 8)) (1.22.3)\n",
            "Requirement already satisfied: pybind11>=2.6.2 in /usr/local/lib/python3.8/site-packages (from -r requirements/requirements.txt (line 9)) (2.13.6)\n",
            "Requirement already satisfied: regex in /usr/local/lib/python3.8/site-packages (from -r requirements/requirements.txt (line 10)) (2024.9.11)\n",
            "Requirement already satisfied: sentencepiece in /usr/local/lib/python3.8/site-packages (from -r requirements/requirements.txt (line 11)) (0.2.0)\n",
            "Requirement already satisfied: six in /usr/local/lib/python3.8/site-packages (from -r requirements/requirements.txt (line 12)) (1.14.0)\n",
            "Requirement already satisfied: tiktoken>=0.1.2 in /usr/local/lib/python3.8/site-packages (from -r requirements/requirements.txt (line 13)) (0.7.0)\n",
            "Requirement already satisfied: tokenizers>=0.12.1 in /usr/local/lib/python3.8/site-packages (from -r requirements/requirements.txt (line 14)) (0.15.2)\n",
            "Requirement already satisfied: transformers==4.38.0 in /usr/local/lib/python3.8/site-packages (from -r requirements/requirements.txt (line 15)) (4.38.0)\n",
            "Requirement already satisfied: pydantic in /usr/local/lib/python3.8/site-packages (from deepspeed@ git+https://github.com/EleutherAI/DeeperSpeed.git@02e2ebf7dee6aaab3d89094ed470a4609763c742#egg=deepspeed->-r requirements/requirements.txt (line 1)) (2.9.2)\n",
            "Requirement already satisfied: pynvml in /usr/local/lib/python3.8/site-packages (from deepspeed@ git+https://github.com/EleutherAI/DeeperSpeed.git@02e2ebf7dee6aaab3d89094ed470a4609763c742#egg=deepspeed->-r requirements/requirements.txt (line 1)) (11.5.3)\n",
            "Requirement already satisfied: hjson in /usr/local/lib/python3.8/site-packages (from deepspeed@ git+https://github.com/EleutherAI/DeeperSpeed.git@02e2ebf7dee6aaab3d89094ed470a4609763c742#egg=deepspeed->-r requirements/requirements.txt (line 1)) (3.1.0)\n",
            "Requirement already satisfied: ninja in /usr/local/lib/python3.8/site-packages (from deepspeed@ git+https://github.com/EleutherAI/DeeperSpeed.git@02e2ebf7dee6aaab3d89094ed470a4609763c742#egg=deepspeed->-r requirements/requirements.txt (line 1)) (1.11.1.1)\n",
            "Requirement already satisfied: py-cpuinfo in /usr/local/lib/python3.8/site-packages (from deepspeed@ git+https://github.com/EleutherAI/DeeperSpeed.git@02e2ebf7dee6aaab3d89094ed470a4609763c742#egg=deepspeed->-r requirements/requirements.txt (line 1)) (9.0.0)\n",
            "Requirement already satisfied: torch in /usr/local/lib/python3.8/site-packages (from deepspeed@ git+https://github.com/EleutherAI/DeeperSpeed.git@02e2ebf7dee6aaab3d89094ed470a4609763c742#egg=deepspeed->-r requirements/requirements.txt (line 1)) (2.4.1)\n",
            "Requirement already satisfied: tqdm in /usr/local/lib/python3.8/site-packages (from deepspeed@ git+https://github.com/EleutherAI/DeeperSpeed.git@02e2ebf7dee6aaab3d89094ed470a4609763c742#egg=deepspeed->-r requirements/requirements.txt (line 1)) (4.66.3)\n",
            "Requirement already satisfied: psutil in /usr/local/lib/python3.8/site-packages (from deepspeed@ git+https://github.com/EleutherAI/DeeperSpeed.git@02e2ebf7dee6aaab3d89094ed470a4609763c742#egg=deepspeed->-r requirements/requirements.txt (line 1)) (5.8.0)\n",
            "Requirement already satisfied: packaging>=20.0 in /usr/local/lib/python3.8/site-packages (from deepspeed@ git+https://github.com/EleutherAI/DeeperSpeed.git@02e2ebf7dee6aaab3d89094ed470a4609763c742#egg=deepspeed->-r requirements/requirements.txt (line 1)) (24.1)\n",
            "Requirement already satisfied: wcwidth<0.3.0,>=0.2.12 in /usr/local/lib/python3.8/site-packages (from ftfy>=6.0.1->-r requirements/requirements.txt (line 2)) (0.2.13)\n",
            "Requirement already satisfied: filelock in /usr/local/lib/python3.8/site-packages (from huggingface_hub>=0.11.0->-r requirements/requirements.txt (line 3)) (3.16.1)\n",
            "Requirement already satisfied: fsspec>=2023.5.0 in /usr/local/lib/python3.8/site-packages (from huggingface_hub>=0.11.0->-r requirements/requirements.txt (line 3)) (2024.9.0)\n",
            "Requirement already satisfied: pyyaml>=5.1 in /usr/local/lib/python3.8/site-packages (from huggingface_hub>=0.11.0->-r requirements/requirements.txt (line 3)) (6.0.2)\n",
            "Requirement already satisfied: requests in /usr/local/lib/python3.8/site-packages (from huggingface_hub>=0.11.0->-r requirements/requirements.txt (line 3)) (2.32.2)\n",
            "Requirement already satisfied: typing-extensions>=3.7.4.3 in /usr/local/lib/python3.8/site-packages (from huggingface_hub>=0.11.0->-r requirements/requirements.txt (line 3)) (4.11.0)\n",
            "Requirement already satisfied: MarkupSafe>=2.0 in /usr/local/lib/python3.8/site-packages (from jinja2==3.1.4->-r requirements/requirements.txt (line 4)) (2.1.1)\n",
            "Requirement already satisfied: zstandard in /usr/local/lib/python3.8/site-packages (from lm_dataformat@ git+https://github.com/EleutherAI/lm_dataformat.git@4eec05349977071bf67fc072290b95e31c8dd836->-r requirements/requirements.txt (line 5)) (0.23.0)\n",
            "Requirement already satisfied: jsonlines in /usr/local/lib/python3.8/site-packages (from lm_dataformat@ git+https://github.com/EleutherAI/lm_dataformat.git@4eec05349977071bf67fc072290b95e31c8dd836->-r requirements/requirements.txt (line 5)) (4.0.0)\n",
            "Requirement already satisfied: ujson in /usr/local/lib/python3.8/site-packages (from lm_dataformat@ git+https://github.com/EleutherAI/lm_dataformat.git@4eec05349977071bf67fc072290b95e31c8dd836->-r requirements/requirements.txt (line 5)) (5.10.0)\n",
            "Requirement already satisfied: peft>=0.2.0 in /usr/local/lib/python3.8/site-packages (from lm_eval<=0.4.1,>=0.4.0->-r requirements/requirements.txt (line 6)) (0.13.2)\n",
            "Requirement already satisfied: scikit-learn>=0.24.1 in /usr/local/lib/python3.8/site-packages (from lm_eval<=0.4.1,>=0.4.0->-r requirements/requirements.txt (line 6)) (1.3.2)\n",
            "Requirement already satisfied: pytablewriter in /usr/local/lib/python3.8/site-packages (from lm_eval<=0.4.1,>=0.4.0->-r requirements/requirements.txt (line 6)) (1.2.0)\n",
            "Requirement already satisfied: numexpr in /usr/local/lib/python3.8/site-packages (from lm_eval<=0.4.1,>=0.4.0->-r requirements/requirements.txt (line 6)) (2.8.6)\n",
            "Requirement already satisfied: evaluate in /usr/local/lib/python3.8/site-packages (from lm_eval<=0.4.1,>=0.4.0->-r requirements/requirements.txt (line 6)) (0.4.3)\n",
            "Requirement already satisfied: rouge-score>=0.0.4 in /usr/local/lib/python3.8/site-packages (from lm_eval<=0.4.1,>=0.4.0->-r requirements/requirements.txt (line 6)) (0.1.2)\n",
            "Requirement already satisfied: sqlitedict in /usr/local/lib/python3.8/site-packages (from lm_eval<=0.4.1,>=0.4.0->-r requirements/requirements.txt (line 6)) (2.1.0)\n",
            "Requirement already satisfied: tqdm-multiprocess in /usr/local/lib/python3.8/site-packages (from lm_eval<=0.4.1,>=0.4.0->-r requirements/requirements.txt (line 6)) (0.0.11)\n",
            "Requirement already satisfied: accelerate>=0.21.0 in /usr/local/lib/python3.8/site-packages (from lm_eval<=0.4.1,>=0.4.0->-r requirements/requirements.txt (line 6)) (1.0.1)\n",
            "Requirement already satisfied: sacrebleu>=1.5.0 in /usr/local/lib/python3.8/site-packages (from lm_eval<=0.4.1,>=0.4.0->-r requirements/requirements.txt (line 6)) (2.4.3)\n",
            "Requirement already satisfied: datasets>=2.14.0 in /usr/local/lib/python3.8/site-packages (from lm_eval<=0.4.1,>=0.4.0->-r requirements/requirements.txt (line 6)) (3.0.2)\n",
            "Requirement already satisfied: safetensors>=0.4.1 in /usr/local/lib/python3.8/site-packages (from transformers==4.38.0->-r requirements/requirements.txt (line 15)) (0.4.5)\n",
            "Requirement already satisfied: pydantic-core==2.23.4 in /usr/local/lib/python3.8/site-packages (from pydantic->deepspeed@ git+https://github.com/EleutherAI/DeeperSpeed.git@02e2ebf7dee6aaab3d89094ed470a4609763c742#egg=deepspeed->-r requirements/requirements.txt (line 1)) (2.23.4)\n",
            "Requirement already satisfied: annotated-types>=0.6.0 in /usr/local/lib/python3.8/site-packages (from pydantic->deepspeed@ git+https://github.com/EleutherAI/DeeperSpeed.git@02e2ebf7dee6aaab3d89094ed470a4609763c742#egg=deepspeed->-r requirements/requirements.txt (line 1)) (0.7.0)\n",
            "Requirement already satisfied: nvidia-cuda-cupti-cu12==12.1.105; platform_system == \"Linux\" and platform_machine == \"x86_64\" in /usr/local/lib/python3.8/site-packages (from torch->deepspeed@ git+https://github.com/EleutherAI/DeeperSpeed.git@02e2ebf7dee6aaab3d89094ed470a4609763c742#egg=deepspeed->-r requirements/requirements.txt (line 1)) (12.1.105)\n",
            "Requirement already satisfied: nvidia-cuda-nvrtc-cu12==12.1.105; platform_system == \"Linux\" and platform_machine == \"x86_64\" in /usr/local/lib/python3.8/site-packages (from torch->deepspeed@ git+https://github.com/EleutherAI/DeeperSpeed.git@02e2ebf7dee6aaab3d89094ed470a4609763c742#egg=deepspeed->-r requirements/requirements.txt (line 1)) (12.1.105)\n",
            "Requirement already satisfied: nvidia-cublas-cu12==12.1.3.1; platform_system == \"Linux\" and platform_machine == \"x86_64\" in /usr/local/lib/python3.8/site-packages (from torch->deepspeed@ git+https://github.com/EleutherAI/DeeperSpeed.git@02e2ebf7dee6aaab3d89094ed470a4609763c742#egg=deepspeed->-r requirements/requirements.txt (line 1)) (12.1.3.1)\n",
            "Requirement already satisfied: networkx in /usr/local/lib/python3.8/site-packages (from torch->deepspeed@ git+https://github.com/EleutherAI/DeeperSpeed.git@02e2ebf7dee6aaab3d89094ed470a4609763c742#egg=deepspeed->-r requirements/requirements.txt (line 1)) (3.1)\n",
            "Requirement already satisfied: nvidia-cufft-cu12==11.0.2.54; platform_system == \"Linux\" and platform_machine == \"x86_64\" in /usr/local/lib/python3.8/site-packages (from torch->deepspeed@ git+https://github.com/EleutherAI/DeeperSpeed.git@02e2ebf7dee6aaab3d89094ed470a4609763c742#egg=deepspeed->-r requirements/requirements.txt (line 1)) (11.0.2.54)\n",
            "Requirement already satisfied: nvidia-curand-cu12==10.3.2.106; platform_system == \"Linux\" and platform_machine == \"x86_64\" in /usr/local/lib/python3.8/site-packages (from torch->deepspeed@ git+https://github.com/EleutherAI/DeeperSpeed.git@02e2ebf7dee6aaab3d89094ed470a4609763c742#egg=deepspeed->-r requirements/requirements.txt (line 1)) (10.3.2.106)\n",
            "Requirement already satisfied: nvidia-nccl-cu12==2.20.5; platform_system == \"Linux\" and platform_machine == \"x86_64\" in /usr/local/lib/python3.8/site-packages (from torch->deepspeed@ git+https://github.com/EleutherAI/DeeperSpeed.git@02e2ebf7dee6aaab3d89094ed470a4609763c742#egg=deepspeed->-r requirements/requirements.txt (line 1)) (2.20.5)\n",
            "Requirement already satisfied: nvidia-nvtx-cu12==12.1.105; platform_system == \"Linux\" and platform_machine == \"x86_64\" in /usr/local/lib/python3.8/site-packages (from torch->deepspeed@ git+https://github.com/EleutherAI/DeeperSpeed.git@02e2ebf7dee6aaab3d89094ed470a4609763c742#egg=deepspeed->-r requirements/requirements.txt (line 1)) (12.1.105)\n",
            "Requirement already satisfied: nvidia-cusolver-cu12==11.4.5.107; platform_system == \"Linux\" and platform_machine == \"x86_64\" in /usr/local/lib/python3.8/site-packages (from torch->deepspeed@ git+https://github.com/EleutherAI/DeeperSpeed.git@02e2ebf7dee6aaab3d89094ed470a4609763c742#egg=deepspeed->-r requirements/requirements.txt (line 1)) (11.4.5.107)\n",
            "Requirement already satisfied: nvidia-cusparse-cu12==12.1.0.106; platform_system == \"Linux\" and platform_machine == \"x86_64\" in /usr/local/lib/python3.8/site-packages (from torch->deepspeed@ git+https://github.com/EleutherAI/DeeperSpeed.git@02e2ebf7dee6aaab3d89094ed470a4609763c742#egg=deepspeed->-r requirements/requirements.txt (line 1)) (12.1.0.106)\n",
            "Requirement already satisfied: triton==3.0.0; platform_system == \"Linux\" and platform_machine == \"x86_64\" and python_version < \"3.13\" in /usr/local/lib/python3.8/site-packages (from torch->deepspeed@ git+https://github.com/EleutherAI/DeeperSpeed.git@02e2ebf7dee6aaab3d89094ed470a4609763c742#egg=deepspeed->-r requirements/requirements.txt (line 1)) (3.0.0)\n",
            "Requirement already satisfied: sympy in /usr/local/lib/python3.8/site-packages (from torch->deepspeed@ git+https://github.com/EleutherAI/DeeperSpeed.git@02e2ebf7dee6aaab3d89094ed470a4609763c742#egg=deepspeed->-r requirements/requirements.txt (line 1)) (1.13.3)\n",
            "Requirement already satisfied: nvidia-cudnn-cu12==9.1.0.70; platform_system == \"Linux\" and platform_machine == \"x86_64\" in /usr/local/lib/python3.8/site-packages (from torch->deepspeed@ git+https://github.com/EleutherAI/DeeperSpeed.git@02e2ebf7dee6aaab3d89094ed470a4609763c742#egg=deepspeed->-r requirements/requirements.txt (line 1)) (9.1.0.70)\n",
            "Requirement already satisfied: nvidia-cuda-runtime-cu12==12.1.105; platform_system == \"Linux\" and platform_machine == \"x86_64\" in /usr/local/lib/python3.8/site-packages (from torch->deepspeed@ git+https://github.com/EleutherAI/DeeperSpeed.git@02e2ebf7dee6aaab3d89094ed470a4609763c742#egg=deepspeed->-r requirements/requirements.txt (line 1)) (12.1.105)\n",
            "Requirement already satisfied: urllib3<3,>=1.21.1 in /usr/local/lib/python3.8/site-packages (from requests->huggingface_hub>=0.11.0->-r requirements/requirements.txt (line 3)) (1.25.8)\n",
            "Requirement already satisfied: certifi>=2017.4.17 in /usr/local/lib/python3.8/site-packages (from requests->huggingface_hub>=0.11.0->-r requirements/requirements.txt (line 3)) (2024.8.30)\n",
            "Requirement already satisfied: idna<4,>=2.5 in /usr/local/lib/python3.8/site-packages (from requests->huggingface_hub>=0.11.0->-r requirements/requirements.txt (line 3)) (2.8)\n",
            "Requirement already satisfied: charset-normalizer<4,>=2 in /usr/local/lib/python3.8/site-packages (from requests->huggingface_hub>=0.11.0->-r requirements/requirements.txt (line 3)) (2.0.4)\n",
            "Requirement already satisfied: attrs>=19.2.0 in /usr/local/lib/python3.8/site-packages (from jsonlines->lm_dataformat@ git+https://github.com/EleutherAI/lm_dataformat.git@4eec05349977071bf67fc072290b95e31c8dd836->-r requirements/requirements.txt (line 5)) (24.2.0)\n",
            "Requirement already satisfied: threadpoolctl>=2.0.0 in /usr/local/lib/python3.8/site-packages (from scikit-learn>=0.24.1->lm_eval<=0.4.1,>=0.4.0->-r requirements/requirements.txt (line 6)) (3.5.0)\n",
            "Requirement already satisfied: scipy>=1.5.0 in /usr/local/lib/python3.8/site-packages (from scikit-learn>=0.24.1->lm_eval<=0.4.1,>=0.4.0->-r requirements/requirements.txt (line 6)) (1.10.1)\n",
            "Requirement already satisfied: joblib>=1.1.1 in /usr/local/lib/python3.8/site-packages (from scikit-learn>=0.24.1->lm_eval<=0.4.1,>=0.4.0->-r requirements/requirements.txt (line 6)) (1.4.2)\n",
            "Requirement already satisfied: typepy[datetime]<2,>=1.3.2 in /usr/local/lib/python3.8/site-packages (from pytablewriter->lm_eval<=0.4.1,>=0.4.0->-r requirements/requirements.txt (line 6)) (1.3.2)\n",
            "Requirement already satisfied: pathvalidate<4,>=2.3.0 in /usr/local/lib/python3.8/site-packages (from pytablewriter->lm_eval<=0.4.1,>=0.4.0->-r requirements/requirements.txt (line 6)) (3.2.1)\n",
            "Requirement already satisfied: setuptools>=38.3.0 in /usr/local/lib/python3.8/site-packages (from pytablewriter->lm_eval<=0.4.1,>=0.4.0->-r requirements/requirements.txt (line 6)) (45.2.0.post20200210)\n",
            "Requirement already satisfied: DataProperty<2,>=1.0.1 in /usr/local/lib/python3.8/site-packages (from pytablewriter->lm_eval<=0.4.1,>=0.4.0->-r requirements/requirements.txt (line 6)) (1.0.1)\n",
            "Requirement already satisfied: tabledata<2,>=1.3.1 in /usr/local/lib/python3.8/site-packages (from pytablewriter->lm_eval<=0.4.1,>=0.4.0->-r requirements/requirements.txt (line 6)) (1.3.3)\n",
            "Requirement already satisfied: tcolorpy<1,>=0.0.5 in /usr/local/lib/python3.8/site-packages (from pytablewriter->lm_eval<=0.4.1,>=0.4.0->-r requirements/requirements.txt (line 6)) (0.1.6)\n",
            "Requirement already satisfied: mbstrdecoder<2,>=1.0.0 in /usr/local/lib/python3.8/site-packages (from pytablewriter->lm_eval<=0.4.1,>=0.4.0->-r requirements/requirements.txt (line 6)) (1.1.3)\n",
            "Requirement already satisfied: dill in /usr/local/lib/python3.8/site-packages (from evaluate->lm_eval<=0.4.1,>=0.4.0->-r requirements/requirements.txt (line 6)) (0.3.8)\n",
            "Requirement already satisfied: xxhash in /usr/local/lib/python3.8/site-packages (from evaluate->lm_eval<=0.4.1,>=0.4.0->-r requirements/requirements.txt (line 6)) (3.5.0)\n",
            "Requirement already satisfied: multiprocess in /usr/local/lib/python3.8/site-packages (from evaluate->lm_eval<=0.4.1,>=0.4.0->-r requirements/requirements.txt (line 6)) (0.70.16)\n",
            "Requirement already satisfied: pandas in /usr/local/lib/python3.8/site-packages (from evaluate->lm_eval<=0.4.1,>=0.4.0->-r requirements/requirements.txt (line 6)) (1.3.5)\n",
            "Requirement already satisfied: absl-py in /usr/local/lib/python3.8/site-packages (from rouge-score>=0.0.4->lm_eval<=0.4.1,>=0.4.0->-r requirements/requirements.txt (line 6)) (2.1.0)\n",
            "Requirement already satisfied: nltk in /usr/local/lib/python3.8/site-packages (from rouge-score>=0.0.4->lm_eval<=0.4.1,>=0.4.0->-r requirements/requirements.txt (line 6)) (3.9.1)\n",
            "Requirement already satisfied: colorama in /usr/local/lib/python3.8/site-packages (from tqdm-multiprocess->lm_eval<=0.4.1,>=0.4.0->-r requirements/requirements.txt (line 6)) (0.4.6)\n",
            "Requirement already satisfied: tabulate>=0.8.9 in /usr/local/lib/python3.8/site-packages (from sacrebleu>=1.5.0->lm_eval<=0.4.1,>=0.4.0->-r requirements/requirements.txt (line 6)) (0.9.0)\n",
            "Requirement already satisfied: lxml in /usr/local/lib/python3.8/site-packages (from sacrebleu>=1.5.0->lm_eval<=0.4.1,>=0.4.0->-r requirements/requirements.txt (line 6)) (5.3.0)\n",
            "Requirement already satisfied: portalocker in /usr/local/lib/python3.8/site-packages (from sacrebleu>=1.5.0->lm_eval<=0.4.1,>=0.4.0->-r requirements/requirements.txt (line 6)) (2.10.1)\n",
            "Requirement already satisfied: aiohttp in /usr/local/lib/python3.8/site-packages (from datasets>=2.14.0->lm_eval<=0.4.1,>=0.4.0->-r requirements/requirements.txt (line 6)) (3.8.1)\n",
            "Requirement already satisfied: pyarrow>=15.0.0 in /usr/local/lib/python3.8/site-packages (from datasets>=2.14.0->lm_eval<=0.4.1,>=0.4.0->-r requirements/requirements.txt (line 6)) (17.0.0)\n",
            "Requirement already satisfied: nvidia-nvjitlink-cu12 in /usr/local/lib/python3.8/site-packages (from nvidia-cusolver-cu12==11.4.5.107; platform_system == \"Linux\" and platform_machine == \"x86_64\"->torch->deepspeed@ git+https://github.com/EleutherAI/DeeperSpeed.git@02e2ebf7dee6aaab3d89094ed470a4609763c742#egg=deepspeed->-r requirements/requirements.txt (line 1)) (12.6.77)\n",
            "Requirement already satisfied: mpmath<1.4,>=1.1.0 in /usr/local/lib/python3.8/site-packages (from sympy->torch->deepspeed@ git+https://github.com/EleutherAI/DeeperSpeed.git@02e2ebf7dee6aaab3d89094ed470a4609763c742#egg=deepspeed->-r requirements/requirements.txt (line 1)) (1.3.0)\n",
            "Requirement already satisfied: pytz>=2018.9; extra == \"datetime\" in /usr/local/lib/python3.8/site-packages (from typepy[datetime]<2,>=1.3.2->pytablewriter->lm_eval<=0.4.1,>=0.4.0->-r requirements/requirements.txt (line 6)) (2024.1)\n",
            "Requirement already satisfied: python-dateutil<3.0.0,>=2.8.0; extra == \"datetime\" in /usr/local/lib/python3.8/site-packages (from typepy[datetime]<2,>=1.3.2->pytablewriter->lm_eval<=0.4.1,>=0.4.0->-r requirements/requirements.txt (line 6)) (2.9.0.post0)\n",
            "Requirement already satisfied: chardet<6,>=3.0.4 in /usr/local/lib/python3.8/site-packages (from mbstrdecoder<2,>=1.0.0->pytablewriter->lm_eval<=0.4.1,>=0.4.0->-r requirements/requirements.txt (line 6)) (3.0.4)\n",
            "Requirement already satisfied: click in /usr/local/lib/python3.8/site-packages (from nltk->rouge-score>=0.0.4->lm_eval<=0.4.1,>=0.4.0->-r requirements/requirements.txt (line 6)) (8.1.7)\n",
            "Requirement already satisfied: async-timeout<5.0,>=4.0.0a3 in /usr/local/lib/python3.8/site-packages (from aiohttp->datasets>=2.14.0->lm_eval<=0.4.1,>=0.4.0->-r requirements/requirements.txt (line 6)) (4.0.3)\n",
            "Requirement already satisfied: multidict<7.0,>=4.5 in /usr/local/lib/python3.8/site-packages (from aiohttp->datasets>=2.14.0->lm_eval<=0.4.1,>=0.4.0->-r requirements/requirements.txt (line 6)) (6.0.4)\n",
            "Requirement already satisfied: yarl<2.0,>=1.0 in /usr/local/lib/python3.8/site-packages (from aiohttp->datasets>=2.14.0->lm_eval<=0.4.1,>=0.4.0->-r requirements/requirements.txt (line 6)) (1.7.2)\n",
            "Requirement already satisfied: frozenlist>=1.1.1 in /usr/local/lib/python3.8/site-packages (from aiohttp->datasets>=2.14.0->lm_eval<=0.4.1,>=0.4.0->-r requirements/requirements.txt (line 6)) (1.4.0)\n",
            "Requirement already satisfied: aiosignal>=1.1.2 in /usr/local/lib/python3.8/site-packages (from aiohttp->datasets>=2.14.0->lm_eval<=0.4.1,>=0.4.0->-r requirements/requirements.txt (line 6)) (1.3.1)\n"
          ]
        }
      ],
      "source": [
        "!pip install -r requirements/requirements.txt"
      ]
    },
    {
      "cell_type": "code",
      "execution_count": 24,
      "metadata": {
        "colab": {
          "base_uri": "https://localhost:8080/"
        },
        "id": "mzL0z85r8A9c",
        "outputId": "349f4662-b9d7-4a59-fecf-7b4b76b7d0cc"
      },
      "outputs": [
        {
          "name": "stdout",
          "output_type": "stream",
          "text": [
            "Name: deepspeed\n",
            "Version: 0.12.4+02e2ebf7\n",
            "Summary: DeepSpeed library\n",
            "Home-page: http://deepspeed.ai\n",
            "Author: DeepSpeed Team\n",
            "Author-email: deepspeed-info@microsoft.com\n",
            "License: Apache Software License 2.0\n",
            "Location: /usr/local/lib/python3.8/site-packages\n",
            "Requires: psutil, ninja, py-cpuinfo, hjson, tqdm, packaging, torch, numpy, pydantic, pynvml\n",
            "Required-by: \n"
          ]
        }
      ],
      "source": [
        "%pip show deepspeed\n"
      ]
    },
    {
      "cell_type": "code",
      "execution_count": 16,
      "metadata": {
        "colab": {
          "base_uri": "https://localhost:8080/",
          "height": 336
        },
        "id": "iLjywfLX6qoN",
        "outputId": "6e04bfbb-d754-4f17-99a7-9e44c432f395"
      },
      "outputs": [
        {
          "ename": "ModuleNotFoundError",
          "evalue": "No module named 'deepspeed'",
          "output_type": "error",
          "traceback": [
            "\u001b[0;31m---------------------------------------------------------------------------\u001b[0m",
            "\u001b[0;31mModuleNotFoundError\u001b[0m                       Traceback (most recent call last)",
            "\u001b[0;32m<ipython-input-16-a3be5f061ad4>\u001b[0m in \u001b[0;36m<cell line: 1>\u001b[0;34m()\u001b[0m\n\u001b[0;32m----> 1\u001b[0;31m \u001b[0;32mimport\u001b[0m \u001b[0mdeepspeed\u001b[0m\u001b[0;34m\u001b[0m\u001b[0;34m\u001b[0m\u001b[0m\n\u001b[0m",
            "\u001b[0;31mModuleNotFoundError\u001b[0m: No module named 'deepspeed'",
            "",
            "\u001b[0;31m---------------------------------------------------------------------------\u001b[0;32m\nNOTE: If your import is failing due to a missing package, you can\nmanually install dependencies using either !pip or !apt.\n\nTo view examples of installing some common dependencies, click the\n\"Open Examples\" button below.\n\u001b[0;31m---------------------------------------------------------------------------\u001b[0m\n"
          ]
        }
      ],
      "source": [
        "import deepspeed"
      ]
    }
  ],
  "metadata": {
    "colab": {
      "authorship_tag": "ABX9TyPBYTWZusfVRUQNJqkna/0e",
      "include_colab_link": true,
      "provenance": []
    },
    "kernelspec": {
      "display_name": "Python 3",
      "name": "python3"
    },
    "language_info": {
      "name": "python"
    }
  },
  "nbformat": 4,
  "nbformat_minor": 0
}
